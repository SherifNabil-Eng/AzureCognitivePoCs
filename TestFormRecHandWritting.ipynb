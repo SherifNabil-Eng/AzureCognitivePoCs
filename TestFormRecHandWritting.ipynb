{
  "nbformat": 4,
  "nbformat_minor": 0,
  "metadata": {
    "colab": {
      "provenance": [],
      "authorship_tag": "ABX9TyNixgZ+/3rGEgbyF2pPixhh",
      "include_colab_link": true
    },
    "kernelspec": {
      "name": "python3",
      "display_name": "Python 3"
    },
    "language_info": {
      "name": "python"
    }
  },
  "cells": [
    {
      "cell_type": "markdown",
      "metadata": {
        "id": "view-in-github",
        "colab_type": "text"
      },
      "source": [
        "<a href=\"https://colab.research.google.com/github/SherifNabil-Eng/AzureCognitivePoCs/blob/main/TestFormRecHandWritting.ipynb\" target=\"_parent\"><img src=\"https://colab.research.google.com/assets/colab-badge.svg\" alt=\"Open In Colab\"/></a>"
      ]
    },
    {
      "cell_type": "code",
      "execution_count": null,
      "metadata": {
        "colab": {
          "base_uri": "https://localhost:8080/"
        },
        "id": "xqyMrJRw9NoV",
        "outputId": "37edcb38-a68d-4526-fc4d-996bc2770df6"
      },
      "outputs": [
        {
          "output_type": "stream",
          "name": "stdout",
          "text": [
            "Looking in indexes: https://pypi.org/simple, https://us-python.pkg.dev/colab-wheels/public/simple/\n",
            "Collecting azure-ai-formrecognizer==3.2.0\n",
            "  Downloading azure_ai_formrecognizer-3.2.0-py3-none-any.whl (228 kB)\n",
            "\u001b[2K     \u001b[90m━━━━━━━━━━━━━━━━━━━━━━━━━━━━━━━━━━━━━━━\u001b[0m \u001b[32m228.4/228.4 KB\u001b[0m \u001b[31m4.7 MB/s\u001b[0m eta \u001b[36m0:00:00\u001b[0m\n",
            "\u001b[?25hCollecting azure-common~=1.1\n",
            "  Downloading azure_common-1.1.28-py2.py3-none-any.whl (14 kB)\n",
            "Collecting azure-core<2.0.0,>=1.23.0\n",
            "  Downloading azure_core-1.26.3-py3-none-any.whl (174 kB)\n",
            "\u001b[2K     \u001b[90m━━━━━━━━━━━━━━━━━━━━━━━━━━━━━━━━━━━━━━━\u001b[0m \u001b[32m174.5/174.5 KB\u001b[0m \u001b[31m9.8 MB/s\u001b[0m eta \u001b[36m0:00:00\u001b[0m\n",
            "\u001b[?25hCollecting msrest>=0.6.21\n",
            "  Downloading msrest-0.7.1-py3-none-any.whl (85 kB)\n",
            "\u001b[2K     \u001b[90m━━━━━━━━━━━━━━━━━━━━━━━━━━━━━━━━━━━━━━━━\u001b[0m \u001b[32m85.4/85.4 KB\u001b[0m \u001b[31m4.0 MB/s\u001b[0m eta \u001b[36m0:00:00\u001b[0m\n",
            "\u001b[?25hRequirement already satisfied: typing-extensions>=4.0.1 in /usr/local/lib/python3.8/dist-packages (from azure-ai-formrecognizer==3.2.0) (4.4.0)\n",
            "Requirement already satisfied: requests>=2.18.4 in /usr/local/lib/python3.8/dist-packages (from azure-core<2.0.0,>=1.23.0->azure-ai-formrecognizer==3.2.0) (2.25.1)\n",
            "Requirement already satisfied: six>=1.11.0 in /usr/local/lib/python3.8/dist-packages (from azure-core<2.0.0,>=1.23.0->azure-ai-formrecognizer==3.2.0) (1.15.0)\n",
            "Requirement already satisfied: requests-oauthlib>=0.5.0 in /usr/local/lib/python3.8/dist-packages (from msrest>=0.6.21->azure-ai-formrecognizer==3.2.0) (1.3.1)\n",
            "Requirement already satisfied: certifi>=2017.4.17 in /usr/local/lib/python3.8/dist-packages (from msrest>=0.6.21->azure-ai-formrecognizer==3.2.0) (2022.12.7)\n",
            "Collecting isodate>=0.6.0\n",
            "  Downloading isodate-0.6.1-py2.py3-none-any.whl (41 kB)\n",
            "\u001b[2K     \u001b[90m━━━━━━━━━━━━━━━━━━━━━━━━━━━━━━━━━━━━━━━━\u001b[0m \u001b[32m41.7/41.7 KB\u001b[0m \u001b[31m1.6 MB/s\u001b[0m eta \u001b[36m0:00:00\u001b[0m\n",
            "\u001b[?25hRequirement already satisfied: urllib3<1.27,>=1.21.1 in /usr/local/lib/python3.8/dist-packages (from requests>=2.18.4->azure-core<2.0.0,>=1.23.0->azure-ai-formrecognizer==3.2.0) (1.24.3)\n",
            "Requirement already satisfied: idna<3,>=2.5 in /usr/local/lib/python3.8/dist-packages (from requests>=2.18.4->azure-core<2.0.0,>=1.23.0->azure-ai-formrecognizer==3.2.0) (2.10)\n",
            "Requirement already satisfied: chardet<5,>=3.0.2 in /usr/local/lib/python3.8/dist-packages (from requests>=2.18.4->azure-core<2.0.0,>=1.23.0->azure-ai-formrecognizer==3.2.0) (4.0.0)\n",
            "Requirement already satisfied: oauthlib>=3.0.0 in /usr/local/lib/python3.8/dist-packages (from requests-oauthlib>=0.5.0->msrest>=0.6.21->azure-ai-formrecognizer==3.2.0) (3.2.2)\n",
            "Installing collected packages: azure-common, isodate, azure-core, msrest, azure-ai-formrecognizer\n",
            "Successfully installed azure-ai-formrecognizer-3.2.0 azure-common-1.1.28 azure-core-1.26.3 isodate-0.6.1 msrest-0.7.1\n"
          ]
        }
      ],
      "source": [
        " !pip install azure-ai-formrecognizer==3.2.0"
      ]
    },
    {
      "cell_type": "code",
      "source": [
        "# import libraries\n",
        "from google.colab import drive\n",
        "drive.mount('/content/gdrive')\n",
        "#drive.mount('/content/drive', force_remount=force_remount)\n",
        "\n",
        "import os\n",
        "import sys\n",
        "import numpy as np\n",
        "import pandas as pd\n",
        "from datetime import date\n",
        "\n",
        "from azure.ai.formrecognizer import DocumentAnalysisClient\n",
        "from azure.core.credentials import AzureKeyCredential\n",
        "from azure.core.exceptions import HttpResponseError\n",
        "\n",
        "os.chdir(\"/content/gdrive/My Drive/Colab Notebooks/Tests\")\n"
      ],
      "metadata": {
        "colab": {
          "base_uri": "https://localhost:8080/"
        },
        "id": "kMYmfa4f9XPs",
        "outputId": "53d0eeea-6c18-4935-a43a-89d4188fe9f6"
      },
      "execution_count": null,
      "outputs": [
        {
          "output_type": "stream",
          "name": "stdout",
          "text": [
            "Mounted at /content/gdrive\n"
          ]
        }
      ]
    },
    {
      "cell_type": "code",
      "source": [
        "def format_bounding_region(bounding_regions):\n",
        "    if not bounding_regions:\n",
        "        return \"N/A\"\n",
        "    return \", \".join(\"Page #{}: {}\".format(region.page_number, format_polygon(region.polygon)) for region in bounding_regions)\n",
        "\n",
        "def format_polygon(polygon):\n",
        "    if not polygon:\n",
        "        return \"N/A\"\n",
        "    return \", \".join([\"[{}, {}]\".format(p.x, p.y) for p in polygon])"
      ],
      "metadata": {
        "id": "iDWpBDNb9Zzs"
      },
      "execution_count": null,
      "outputs": []
    },
    {
      "cell_type": "code",
      "source": [
        "def make_file_path(document_file_name):\n",
        "  \n",
        "  currroot=os.getcwd()\n",
        "  print(\"File location using os.getcwd():\", os.getcwd())\n",
        "  document_path_temp = os.path.join(currroot, document_file_name)\n",
        "\n",
        "  return document_path_temp"
      ],
      "metadata": {
        "id": "2H6kOYOA9gPf"
      },
      "execution_count": null,
      "outputs": []
    },
    {
      "cell_type": "code",
      "source": [
        "def analyze_doc (document):\n",
        "\n",
        "\n",
        "  endpoint = \"\"\n",
        "  key = \"\"\n",
        "  lines=[]\n",
        "\n",
        "  document_analysis_client = DocumentAnalysisClient(\n",
        "      endpoint=endpoint, credential=AzureKeyCredential(key)\n",
        "      )\n",
        "\n",
        "  with open(document, \"rb\") as f:\n",
        "    poller = document_analysis_client.begin_analyze_document(\n",
        "        \"prebuilt-read\", document=f\n",
        "        )\n",
        "    result = poller.result()\n",
        "\n",
        "  print(\"----Languages detected in the document----\")\n",
        "    \n",
        "  for language in result.languages:\n",
        "        print(\"Language code: '{}' with confidence {}\".format(language.locale, language.confidence))\n",
        "\n",
        "  for page in result.pages:\n",
        "    \n",
        "    print(\"----Analyzing document from page #{}----\".format(page.page_number))\n",
        "    print( \"Page has width: {} and height: {}, measured with unit: {}\".format(\n",
        "        page.width, page.height, page.unit\n",
        "        )\n",
        "    )\n",
        "\n",
        "    for line_idx, line in enumerate(page.lines):\n",
        "      words = line.get_words()\n",
        "      print(\n",
        "          \n",
        "          \"...Line # {} has {} words and text '{}' within bounding polygon '{}'\".format(\n",
        "              line_idx,\n",
        "              len(words),\n",
        "              line.content,\n",
        "              format_polygon(line.polygon),\n",
        "              )\n",
        "          )\n",
        "      lines.append (line.content)\n",
        "\n",
        "\n",
        "  \n",
        "  \n",
        "  \n",
        "  return lines"
      ],
      "metadata": {
        "id": "M5bChgLE9pQu"
      },
      "execution_count": null,
      "outputs": []
    },
    {
      "cell_type": "code",
      "source": [
        "if __name__ == \"__main__\":\n",
        "\n",
        "  documents =[\"FormRecImgs/bday_Farah.jpg\",\"FormRecImgs/Marriage_sherif_yasmine.jpg\",\"FormRecImgs/hand_written_receipt.jpg\"]\n",
        "  \n",
        "  document_lines=[]\n",
        " \n",
        "\n",
        "  try:\n",
        "    for i in range (0,len(documents)):\n",
        "      document_path= make_file_path(documents[i])\n",
        "      #document_content = analyze_doc(document_path)\n",
        "      document_lines.append(analyze_doc(document_path))\n",
        "  except HttpResponseError as error:\n",
        "    \n",
        "    # Examples of how to check an HttpResponseError\n",
        "    # Check by error code:\n",
        "    if error.error is not None:\n",
        "\n",
        "      if error.error.code == \"InvalidRequest\":\n",
        "\n",
        "        print(f\"Received an invalid request error: {error.error}\")\n",
        "        sys.exit(1)\n",
        "      if error.error.code == \"InvalidImage\":\n",
        "\n",
        "        print(f\"Received an invalid image error: {error.error}\")\n",
        "        sys.exit(1)\n",
        "        # If the inner error is None and then it is possible to check the message to get more information:\n",
        "    filter_msg = [\"Generic error\", \"Timeout\", \"Invalid request\", \"InvalidImage\"]\n",
        "    if any(example_error.casefold() in error.message.casefold() for example_error in filter_msg):\n",
        "      print(f\"Uh-oh! Something unexpected happened: {error}\")\n",
        "      sys.exit(1)\n",
        "        # Print the full error content:\n",
        "    print(f\"Full HttpResponseError: {error}\")"
      ],
      "metadata": {
        "colab": {
          "base_uri": "https://localhost:8080/"
        },
        "id": "7443fa-p942f",
        "outputId": "588f5046-3568-46ca-aa8b-8ffeb0b7864d"
      },
      "execution_count": null,
      "outputs": [
        {
          "output_type": "stream",
          "name": "stdout",
          "text": [
            "File location using os.getcwd(): /content/gdrive/MyDrive/Colab Notebooks/Tests\n",
            "----Languages detected in the document----\n",
            "Language code: 'ar' with confidence 1.0\n",
            "Language code: 'en' with confidence 0.6\n",
            "Language code: 'otq' with confidence 0.8\n",
            "Language code: 'fa' with confidence 1.0\n",
            "Language code: 'en' with confidence 0.7\n",
            "Language code: 'ht' with confidence 0.6\n",
            "Language code: 'ar' with confidence 0.8\n",
            "Language code: 'otq' with confidence 0.4\n",
            "Language code: 'en' with confidence 0.99\n",
            "Language code: 'ar' with confidence 0.7\n",
            "Language code: 'ar' with confidence 0.95\n",
            "Language code: 'ar' with confidence 0.9\n",
            "----Analyzing document from page #1----\n",
            "Page has width: 697.0 and height: 1024.0, measured with unit: pixel\n",
            "...Line # 0 has 5 words and text 'أهلة القاهرة سحا مدنى الخزانة' within bounding polygon '[78.0, 150.0], [193.0, 168.0], [188.0, 202.0], [75.0, 190.0]'\n",
            "...Line # 1 has 3 words and text 'صورة قيد الميلاد:٢' within bounding polygon '[216.0, 172.0], [418.0, 166.0], [419.0, 207.0], [216.0, 210.0]'\n",
            "...Line # 2 has 4 words and text 'حمد هُورَة مَصِر العَربِيمُ' within bounding polygon '[451.0, 94.0], [591.0, 92.0], [591.0, 127.0], [451.0, 128.0]'\n",
            "...Line # 3 has 3 words and text 'وَزَارِقَ الْكَ أَخْيَّةُ' within bounding polygon '[479.0, 126.0], [567.0, 127.0], [567.0, 154.0], [479.0, 152.0]'\n",
            "...Line # 4 has 4 words and text 'قَطَاعُ الْأَحَوَانِ المَاسَةُ به' within bounding polygon '[439.0, 156.0], [581.0, 157.0], [581.0, 185.0], [439.0, 183.0]'\n",
            "...Line # 5 has 1 words and text 'www.cso.gov.eg' within bounding polygon '[457.0, 190.0], [586.0, 191.0], [586.0, 209.0], [457.0, 207.0]'\n",
            "...Line # 6 has 1 words and text '٣' within bounding polygon '[178.0, 244.0], [193.0, 243.0], [193.0, 262.0], [178.0, 263.0]'\n",
            "...Line # 7 has 4 words and text 'القرى: ٠٠٤٤٧ ٨٨ ٩٠٣٢٢' within bounding polygon '[215.0, 239.0], [436.0, 229.0], [437.0, 262.0], [216.0, 268.0]'\n",
            "...Line # 8 has 2 words and text 'بَيَانَائ المولود' within bounding polygon '[284.0, 273.0], [366.0, 274.0], [366.0, 303.0], [283.0, 302.0]'\n",
            "...Line # 9 has 3 words and text 'الديانة : مسيحية' within bounding polygon '[49.0, 331.0], [212.0, 331.0], [212.0, 351.0], [49.0, 350.0]'\n",
            "...Line # 10 has 2 words and text 'النوع: انشى' within bounding polygon '[66.0, 352.0], [190.0, 352.0], [190.0, 375.0], [66.0, 375.0]'\n",
            "...Line # 11 has 1 words and text 'فرح' within bounding polygon '[297.0, 314.0], [341.0, 312.0], [340.0, 333.0], [297.0, 335.0]'\n",
            "...Line # 12 has 3 words and text 'الجنسية : مصر' within bounding polygon '[488.0, 332.0], [628.0, 331.0], [628.0, 353.0], [488.0, 354.0]'\n",
            "...Line # 13 has 1 words and text 'امريكا' within bounding polygon '[229.0, 372.0], [303.0, 372.0], [304.0, 394.0], [229.0, 395.0]'\n",
            "...Line # 14 has 4 words and text 'محل الميلاد : الخارج' within bounding polygon '[381.0, 374.0], [616.0, 373.0], [616.0, 398.0], [381.0, 399.0]'\n",
            "...Line # 15 has 7 words and text 'تاريخ الميلاد : اثنين وعشرون من مارس' within bounding polygon '[242.0, 395.0], [618.0, 396.0], [618.0, 422.0], [241.0, 419.0]'\n",
            "...Line # 16 has 4 words and text 'عام الفان وتسعه عشر' within bounding polygon '[170.0, 415.0], [415.0, 417.0], [414.0, 441.0], [170.0, 437.0]'\n",
            "...Line # 17 has 1 words and text 'الا' within bounding polygon '[662.0, 367.0], [661.0, 397.0], [633.0, 395.0], [634.0, 365.0]'\n",
            "...Line # 18 has 3 words and text 'بَيَانَا رَ الأبْ' within bounding polygon '[282.0, 452.0], [368.0, 452.0], [368.0, 479.0], [282.0, 479.0]'\n",
            "...Line # 19 has 5 words and text 'شريف نبيل جرجس اسحق يوسف' within bounding polygon '[190.0, 478.0], [503.0, 479.0], [502.0, 505.0], [190.0, 502.0]'\n",
            "...Line # 20 has 1 words and text 'I' within bounding polygon '[0.0, 500.0], [39.0, 501.0], [39.0, 530.0], [0.0, 534.0]'\n",
            "...Line # 21 has 3 words and text 'الرقم القومى: ٢٧٦١٠٠٦٠١٠٩٢٥١' within bounding polygon '[72.0, 517.0], [386.0, 520.0], [386.0, 547.0], [72.0, 542.0]'\n",
            "...Line # 22 has 3 words and text 'الديانة : مسيحى' within bounding polygon '[446.0, 525.0], [619.0, 524.0], [619.0, 547.0], [446.0, 549.0]'\n",
            "...Line # 23 has 3 words and text 'الجنسية : مصر' within bounding polygon '[474.0, 566.0], [613.0, 566.0], [613.0, 591.0], [474.0, 591.0]'\n",
            "...Line # 24 has 2 words and text 'بَيَانات الأمْ' within bounding polygon '[286.0, 595.0], [369.0, 595.0], [369.0, 627.0], [286.0, 626.0]'\n",
            "...Line # 25 has 2 words and text '6 4' within bounding polygon '[8.0, 665.0], [6.0, 615.0], [33.0, 615.0], [33.0, 664.0]'\n",
            "...Line # 26 has 4 words and text 'ياسمين عماد رمزى ويصا' within bounding polygon '[217.0, 625.0], [482.0, 629.0], [481.0, 655.0], [217.0, 652.0]'\n",
            "...Line # 27 has 3 words and text 'الرقم القومى: ٢٨٤٠٣٢١٠١٠٦٦٤٥' within bounding polygon '[72.0, 665.0], [388.0, 671.0], [387.0, 698.0], [72.0, 689.0]'\n",
            "...Line # 28 has 3 words and text 'الديانة : مسيحية' within bounding polygon '[438.0, 673.0], [613.0, 674.0], [613.0, 700.0], [438.0, 699.0]'\n",
            "...Line # 29 has 3 words and text 'الجنسية : مصر' within bounding polygon '[476.0, 719.0], [610.0, 719.0], [610.0, 743.0], [476.0, 744.0]'\n",
            "...Line # 30 has 3 words and text 'رقم القيد ٠١١٢٢٣٨٧' within bounding polygon '[34.0, 773.0], [247.0, 779.0], [246.0, 802.0], [34.0, 795.0]'\n",
            "...Line # 31 has 5 words and text 'ت. القيد :٠٧ /٠٥/ ٢٠١٩' within bounding polygon '[23.0, 794.0], [249.0, 799.0], [249.0, 821.0], [22.0, 816.0]'\n",
            "...Line # 32 has 7 words and text 'ت.أصد ار ٤ ١٢ / ٠٩/ ٢٠٢٠١٩' within bounding polygon '[4.0, 814.0], [250.0, 822.0], [249.0, 844.0], [4.0, 838.0]'\n",
            "...Line # 33 has 5 words and text '. صحة : المركز الرئيسى' within bounding polygon '[313.0, 781.0], [591.0, 784.0], [591.0, 809.0], [313.0, 804.0]'\n",
            "...Line # 34 has 1 words and text 'م.' within bounding polygon '[598.0, 793.0], [617.0, 794.0], [616.0, 813.0], [597.0, 813.0]'\n",
            "...Line # 35 has 5 words and text 'س . مدني: المركز الرئيسى' within bounding polygon '[316.0, 803.0], [616.0, 805.0], [616.0, 829.0], [316.0, 825.0]'\n",
            "...Line # 36 has 7 words and text 'س ٠ ١ صد آراء سجل البرهه' within bounding polygon '[389.0, 825.0], [618.0, 826.0], [618.0, 851.0], [389.0, 848.0]'\n",
            "...Line # 37 has 1 words and text 'السيـ' within bounding polygon '[36.0, 845.0], [36.0, 883.0], [6.0, 881.0], [6.0, 843.0]'\n",
            "...Line # 38 has 1 words and text 'توقسين' within bounding polygon '[144.0, 883.0], [200.0, 883.0], [200.0, 902.0], [144.0, 902.0]'\n",
            "...Line # 39 has 2 words and text 'ضابطا شركة' within bounding polygon '[133.0, 903.0], [241.0, 904.0], [240.0, 930.0], [133.0, 928.0]'\n",
            "...Line # 40 has 1 words and text '٢٥٥٤٣٦١١٢١' within bounding polygon '[282.0, 885.0], [407.0, 887.0], [406.0, 907.0], [282.0, 905.0]'\n",
            "...Line # 41 has 2 words and text 'رقم مسلسل' within bounding polygon '[437.0, 889.0], [543.0, 891.0], [542.0, 915.0], [437.0, 913.0]'\n",
            "...Line # 42 has 5 words and text 'رائد / مصطفى محمود عدلان' within bounding polygon '[67.0, 929.0], [311.0, 929.0], [311.0, 966.0], [67.0, 963.0]'\n",
            "...Line # 43 has 2 words and text 'مفتش بيلات' within bounding polygon '[166.0, 961.0], [308.0, 964.0], [307.0, 989.0], [166.0, 987.0]'\n",
            "...Line # 44 has 3 words and text 'تم من شرق' within bounding polygon '[68.0, 960.0], [198.0, 969.0], [196.0, 997.0], [68.0, 987.0]'\n",
            "...Line # 45 has 1 words and text '10' within bounding polygon '[10.0, 982.0], [31.0, 983.0], [31.0, 1000.0], [9.0, 1000.0]'\n",
            "...Line # 46 has 10 words and text 'تأكد من وجولا طابع الأمومة والطفولة فئة ١ جنيه والعلا' within bounding polygon '[322.0, 984.0], [618.0, 987.0], [618.0, 1012.0], [322.0, 1006.0]'\n",
            "File location using os.getcwd(): /content/gdrive/MyDrive/Colab Notebooks/Tests\n",
            "----Languages detected in the document----\n",
            "Language code: 'ar' with confidence 1.0\n",
            "Language code: 'en' with confidence 0.9\n",
            "Language code: 'ar' with confidence 0.99\n",
            "Language code: 'en' with confidence 0.7\n",
            "Language code: 'en' with confidence 0.3\n",
            "Language code: 'en' with confidence 0.2\n",
            "----Analyzing document from page #1----\n",
            "Page has width: 701.0 and height: 1024.0, measured with unit: pixel\n",
            "...Line # 0 has 3 words and text 'وصور وفيد الزواج' within bounding polygon '[279.0, 179.0], [425.0, 179.0], [426.0, 221.0], [279.0, 222.0]'\n",
            "...Line # 1 has 2 words and text 'وَزَارَةَ الدَّاخِيَّةُ' within bounding polygon '[486.0, 142.0], [576.0, 141.0], [576.0, 167.0], [486.0, 168.0]'\n",
            "...Line # 2 has 3 words and text 'قِظَامِعُ الأَحَوَانُ المَاسَةُ' within bounding polygon '[471.0, 168.0], [590.0, 169.0], [589.0, 197.0], [470.0, 195.0]'\n",
            "...Line # 3 has 1 words and text 'www.cso.gov.eg' within bounding polygon '[469.0, 202.0], [592.0, 202.0], [592.0, 219.0], [469.0, 219.0]'\n",
            "...Line # 4 has 2 words and text 'بيانات الزوج' within bounding polygon '[297.0, 290.0], [392.0, 289.0], [392.0, 316.0], [297.0, 317.0]'\n",
            "...Line # 5 has 8 words and text 'الاسم : شريف نبيل جرجس ما سجق بوسف.' within bounding polygon '[241.0, 322.0], [612.0, 321.0], [612.0, 344.0], [241.0, 346.0]'\n",
            "...Line # 6 has 5 words and text 'الرقم القومى: ٠٩٢٥١ ٠١ /٠٠٦' within bounding polygon '[296.0, 334.0], [617.0, 343.0], [617.0, 364.0], [295.0, 358.0]'\n",
            "...Line # 7 has 2 words and text '٧٦٢.٤ ٢' within bounding polygon '[234.0, 330.0], [316.0, 327.0], [317.0, 353.0], [234.0, 355.0]'\n",
            "...Line # 8 has 6 words and text 'اسم الام : ليلى لويس سعد' within bounding polygon '[348.0, 362.0], [612.0, 363.0], [612.0, 385.0], [348.0, 382.0]'\n",
            "...Line # 9 has 3 words and text 'الديانة : مسيحى' within bounding polygon '[446.0, 384.0], [609.0, 382.0], [609.0, 402.0], [447.0, 405.0]'\n",
            "...Line # 10 has 3 words and text 'الجنسية : مصر' within bounding polygon '[208.0, 378.0], [346.0, 379.0], [346.0, 401.0], [208.0, 401.0]'\n",
            "...Line # 11 has 4 words and text 'محل الميلاد : القاهره' within bounding polygon '[383.0, 402.0], [602.0, 402.0], [602.0, 423.0], [383.0, 423.0]'\n",
            "...Line # 12 has 7 words and text 'تاريخ الميلاد: سته من اكتوبر 0 10' within bounding polygon '[250.0, 422.0], [601.0, 422.0], [601.0, 447.0], [250.0, 448.0]'\n",
            "...Line # 13 has 8 words and text 'عام الف و تسعمائة و ستة و سبعون' within bounding polygon '[177.0, 441.0], [552.0, 444.0], [552.0, 464.0], [177.0, 460.0]'\n",
            "...Line # 14 has 1 words and text 'DC' within bounding polygon '[641.0, 402.0], [668.0, 401.0], [668.0, 421.0], [641.0, 421.0]'\n",
            "...Line # 15 has 1 words and text 'DC' within bounding polygon '[27.0, 549.0], [58.0, 548.0], [57.0, 568.0], [27.0, 568.0]'\n",
            "...Line # 16 has 1 words and text 'يج' within bounding polygon '[29.0, 600.0], [55.0, 601.0], [55.0, 623.0], [29.0, 622.0]'\n",
            "...Line # 17 has 2 words and text 'بيانات الزوجة' within bounding polygon '[297.0, 473.0], [395.0, 475.0], [395.0, 500.0], [297.0, 497.0]'\n",
            "...Line # 18 has 6 words and text 'الاسم : ياسمين عماد رمزى ويصا' within bounding polygon '[296.0, 502.0], [609.0, 503.0], [609.0, 525.0], [296.0, 524.0]'\n",
            "...Line # 19 has 6 words and text 'الرقم القومى: ٠٦٦٤٥ ٠١ ٨٤٠٣٢١ ٢' within bounding polygon '[240.0, 517.0], [611.0, 524.0], [610.0, 546.0], [240.0, 536.0]'\n",
            "...Line # 20 has 6 words and text 'اسم الام : نجوى فرج ميخائيل' within bounding polygon '[322.0, 541.0], [611.0, 545.0], [610.0, 566.0], [322.0, 563.0]'\n",
            "...Line # 21 has 3 words and text 'الديانة : مسيحية' within bounding polygon '[440.0, 561.0], [610.0, 562.0], [610.0, 584.0], [440.0, 581.0]'\n",
            "...Line # 22 has 3 words and text 'الجنسية : مصر' within bounding polygon '[217.0, 561.0], [349.0, 561.0], [349.0, 581.0], [217.0, 581.0]'\n",
            "...Line # 23 has 4 words and text 'محل الميلاد : القاهرة' within bounding polygon '[383.0, 583.0], [603.0, 584.0], [602.0, 605.0], [382.0, 603.0]'\n",
            "...Line # 24 has 7 words and text 'تاريخ الميلاد : واحد وعشرون من مارس' within bounding polygon '[193.0, 600.0], [601.0, 604.0], [601.0, 629.0], [193.0, 624.0]'\n",
            "...Line # 25 has 8 words and text 'عام الف و تسعمائة و اربعة و ثمانون' within bounding polygon '[143.0, 621.0], [554.0, 624.0], [554.0, 647.0], [143.0, 643.0]'\n",
            "...Line # 26 has 3 words and text 'تاريخها : ٢٠١٦/٠٥/٠٦' within bounding polygon '[59.0, 677.0], [278.0, 679.0], [278.0, 703.0], [59.0, 700.0]'\n",
            "...Line # 27 has 1 words and text 'DC' within bounding polygon '[29.0, 714.0], [61.0, 715.0], [60.0, 733.0], [30.0, 733.0]'\n",
            "...Line # 28 has 2 words and text 'بيانات الزواج' within bounding polygon '[297.0, 654.0], [398.0, 656.0], [398.0, 684.0], [296.0, 682.0]'\n",
            "...Line # 29 has 4 words and text 'رقم وثيقة الزواج: ٢٧٧١٩/٧' within bounding polygon '[324.0, 679.0], [616.0, 687.0], [615.0, 711.0], [324.0, 701.0]'\n",
            "...Line # 30 has 5 words and text 'جهة الاصدار : قصر النيل' within bounding polygon '[371.0, 702.0], [614.0, 706.0], [614.0, 727.0], [371.0, 724.0]'\n",
            "...Line # 31 has 1 words and text 'ـمـ' within bounding polygon '[37.0, 802.0], [36.0, 774.0], [56.0, 774.0], [56.0, 802.0]'\n",
            "...Line # 32 has 2 words and text 'ـرة أيقيد' within bounding polygon '[190.0, 756.0], [277.0, 758.0], [276.0, 787.0], [190.0, 784.0]'\n",
            "...Line # 33 has 4 words and text 'م. مدنى: قصر النيل' within bounding polygon '[420.0, 762.0], [620.0, 768.0], [619.0, 794.0], [419.0, 789.0]'\n",
            "...Line # 34 has 6 words and text '. القيد : ٤٩ / ٢٠١٦/٠٥' within bounding polygon '[61.0, 775.0], [267.0, 782.0], [267.0, 803.0], [61.0, 799.0]'\n",
            "...Line # 35 has 5 words and text 'ت .. أصد اد :٤٠٥/٩٠٢' within bounding polygon '[106.0, 799.0], [287.0, 800.0], [286.0, 831.0], [106.0, 828.0]'\n",
            "...Line # 36 has 5 words and text 'س. أصد ار : مـ' within bounding polygon '[510.0, 789.0], [618.0, 789.0], [618.0, 811.0], [510.0, 811.0]'\n",
            "...Line # 37 has 2 words and text 'دربهو العباسيه' within bounding polygon '[341.0, 787.0], [492.0, 797.0], [490.0, 827.0], [339.0, 808.0]'\n",
            "...Line # 38 has 1 words and text 'المستخدم' within bounding polygon '[474.0, 805.0], [568.0, 808.0], [567.0, 835.0], [474.0, 832.0]'\n",
            "...Line # 39 has 1 words and text 'رقم' within bounding polygon '[568.0, 811.0], [618.0, 809.0], [617.0, 833.0], [568.0, 835.0]'\n",
            "...Line # 40 has 1 words and text 'DC' within bounding polygon '[27.0, 872.0], [59.0, 871.0], [58.0, 891.0], [28.0, 890.0]'\n",
            "...Line # 41 has 2 words and text 'توقيع :' within bounding polygon '[175.0, 862.0], [228.0, 859.0], [228.0, 882.0], [175.0, 884.0]'\n",
            "...Line # 42 has 3 words and text 'المسلسل : ٨٩٧٣٥٢٠٣' within bounding polygon '[299.0, 861.0], [491.0, 866.0], [490.0, 891.0], [299.0, 885.0]'\n",
            "...Line # 43 has 1 words and text 'D' within bounding polygon '[646.0, 874.0], [661.0, 874.0], [661.0, 893.0], [647.0, 893.0]'\n",
            "...Line # 44 has 3 words and text 'وثيقة أحوال مدنية)' within bounding polygon '[72.0, 965.0], [180.0, 961.0], [180.0, 983.0], [73.0, 987.0]'\n",
            "...Line # 45 has 14 words and text '◌َّاعَةِ مِن وَيُ طِقَابِعِ الأَبُمَّةِ والطَقُوَيُّهِ فِية ٥ جُنُبَّهِ والعلامة المائية. نعيمُ تَفَاء الجمهورـ' within bounding polygon '[198.0, 956.0], [638.0, 956.0], [638.0, 991.0], [197.0, 989.0]'\n",
            "...Line # 46 has 3 words and text 'POLICE PRESS /25903030' within bounding polygon '[37.0, 1003.0], [158.0, 1001.0], [159.0, 1015.0], [37.0, 1017.0]'\n",
            "...Line # 47 has 6 words and text 'الشرطة للطباعة والنشر والتوزيع / ٢٥٩٠٣٠٢٠' within bounding polygon '[536.0, 1002.0], [656.0, 1003.0], [656.0, 1016.0], [536.0, 1016.0]'\n",
            "File location using os.getcwd(): /content/gdrive/MyDrive/Colab Notebooks/Tests\n",
            "----Languages detected in the document----\n",
            "Language code: 'ar' with confidence 1.0\n",
            "Language code: 'en' with confidence 0.3\n",
            "----Analyzing document from page #1----\n",
            "Page has width: 768.0 and height: 1024.0, measured with unit: pixel\n",
            "...Line # 0 has 1 words and text '-' within bounding polygon '[717.0, 225.0], [720.0, 243.0], [706.0, 244.0], [704.0, 226.0]'\n",
            "...Line # 1 has 2 words and text '10 ..' within bounding polygon '[123.0, 266.0], [204.0, 266.0], [204.0, 295.0], [123.0, 295.0]'\n",
            "...Line # 2 has 1 words and text '1' within bounding polygon '[458.0, 258.0], [470.0, 257.0], [471.0, 291.0], [458.0, 292.0]'\n",
            "...Line # 3 has 2 words and text 'تى شيرت' within bounding polygon '[590.0, 259.0], [734.0, 251.0], [737.0, 297.0], [591.0, 306.0]'\n",
            "...Line # 4 has 2 words and text '0 ..' within bounding polygon '[148.0, 361.0], [188.0, 361.0], [189.0, 379.0], [149.0, 382.0]'\n",
            "...Line # 5 has 1 words and text 'الضريبة' within bounding polygon '[611.0, 349.0], [716.0, 349.0], [717.0, 387.0], [611.0, 390.0]'\n",
            "...Line # 6 has 2 words and text 'C ...' within bounding polygon '[128.0, 440.0], [181.0, 438.0], [182.0, 461.0], [128.0, 462.0]'\n"
          ]
        }
      ]
    },
    {
      "cell_type": "code",
      "source": [
        "for i in range (0,len(documents)):\n",
        "  index_slash=documents[i].find (\"/\")\n",
        "  index_dot=documents[i].find (\".\")\n",
        "\n",
        "  file_sub_name = documents[i][index_slash+1:index_dot]\n",
        "\n",
        "  current_date = today = str (date.today())\n",
        "\n",
        "  extracted_file_name = file_sub_name+\"FormRecHandWritting\"+current_date+\".txt\"\n",
        "\n",
        "  file_extracted_handle = open(extracted_file_name,\"a\")\n",
        "\n",
        "  for j in range (0,len(document_lines[i])):\n",
        "    file_extracted_handle.write(document_lines[i][j]+\"\\n\")\n",
        "  \n",
        "\n",
        "\n",
        "file_extracted_handle.close()"
      ],
      "metadata": {
        "id": "_EBSzXQA_rrB"
      },
      "execution_count": null,
      "outputs": []
    }
  ]
}