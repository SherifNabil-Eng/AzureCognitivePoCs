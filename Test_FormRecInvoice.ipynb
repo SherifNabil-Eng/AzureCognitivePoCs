{
  "nbformat": 4,
  "nbformat_minor": 0,
  "metadata": {
    "colab": {
      "provenance": [],
      "authorship_tag": "ABX9TyPMYcywZ12AN85qvbbvO1Ds",
      "include_colab_link": true
    },
    "kernelspec": {
      "name": "python3",
      "display_name": "Python 3"
    },
    "language_info": {
      "name": "python"
    }
  },
  "cells": [
    {
      "cell_type": "markdown",
      "metadata": {
        "id": "view-in-github",
        "colab_type": "text"
      },
      "source": [
        "<a href=\"https://colab.research.google.com/github/SherifNabil-Eng/AzureCognitivePoCs/blob/main/Test_FormRecInvoice.ipynb\" target=\"_parent\"><img src=\"https://colab.research.google.com/assets/colab-badge.svg\" alt=\"Open In Colab\"/></a>"
      ]
    },
    {
      "cell_type": "code",
      "source": [
        " !pip install azure-ai-formrecognizer==3.2.0"
      ],
      "metadata": {
        "colab": {
          "base_uri": "https://localhost:8080/"
        },
        "id": "W0r7dvQaZG9P",
        "outputId": "c226f539-b33c-4a9c-ee63-7488aa0ae539"
      },
      "execution_count": null,
      "outputs": [
        {
          "output_type": "stream",
          "name": "stdout",
          "text": [
            "Looking in indexes: https://pypi.org/simple, https://us-python.pkg.dev/colab-wheels/public/simple/\n",
            "Collecting azure-ai-formrecognizer==3.2.0\n",
            "  Downloading azure_ai_formrecognizer-3.2.0-py3-none-any.whl (228 kB)\n",
            "\u001b[2K     \u001b[90m━━━━━━━━━━━━━━━━━━━━━━━━━━━━━━━━━━━━━━━\u001b[0m \u001b[32m228.4/228.4 KB\u001b[0m \u001b[31m9.5 MB/s\u001b[0m eta \u001b[36m0:00:00\u001b[0m\n",
            "\u001b[?25hRequirement already satisfied: typing-extensions>=4.0.1 in /usr/local/lib/python3.8/dist-packages (from azure-ai-formrecognizer==3.2.0) (4.4.0)\n",
            "Collecting msrest>=0.6.21\n",
            "  Downloading msrest-0.7.1-py3-none-any.whl (85 kB)\n",
            "\u001b[2K     \u001b[90m━━━━━━━━━━━━━━━━━━━━━━━━━━━━━━━━━━━━━━━━\u001b[0m \u001b[32m85.4/85.4 KB\u001b[0m \u001b[31m6.6 MB/s\u001b[0m eta \u001b[36m0:00:00\u001b[0m\n",
            "\u001b[?25hCollecting azure-core<2.0.0,>=1.23.0\n",
            "  Downloading azure_core-1.26.3-py3-none-any.whl (174 kB)\n",
            "\u001b[2K     \u001b[90m━━━━━━━━━━━━━━━━━━━━━━━━━━━━━━━━━━━━━━\u001b[0m \u001b[32m174.5/174.5 KB\u001b[0m \u001b[31m13.8 MB/s\u001b[0m eta \u001b[36m0:00:00\u001b[0m\n",
            "\u001b[?25hCollecting azure-common~=1.1\n",
            "  Downloading azure_common-1.1.28-py2.py3-none-any.whl (14 kB)\n",
            "Requirement already satisfied: requests>=2.18.4 in /usr/local/lib/python3.8/dist-packages (from azure-core<2.0.0,>=1.23.0->azure-ai-formrecognizer==3.2.0) (2.25.1)\n",
            "Requirement already satisfied: six>=1.11.0 in /usr/local/lib/python3.8/dist-packages (from azure-core<2.0.0,>=1.23.0->azure-ai-formrecognizer==3.2.0) (1.15.0)\n",
            "Requirement already satisfied: certifi>=2017.4.17 in /usr/local/lib/python3.8/dist-packages (from msrest>=0.6.21->azure-ai-formrecognizer==3.2.0) (2022.12.7)\n",
            "Requirement already satisfied: requests-oauthlib>=0.5.0 in /usr/local/lib/python3.8/dist-packages (from msrest>=0.6.21->azure-ai-formrecognizer==3.2.0) (1.3.1)\n",
            "Collecting isodate>=0.6.0\n",
            "  Downloading isodate-0.6.1-py2.py3-none-any.whl (41 kB)\n",
            "\u001b[2K     \u001b[90m━━━━━━━━━━━━━━━━━━━━━━━━━━━━━━━━━━━━━━━\u001b[0m \u001b[32m41.7/41.7 KB\u001b[0m \u001b[31m878.2 kB/s\u001b[0m eta \u001b[36m0:00:00\u001b[0m\n",
            "\u001b[?25hRequirement already satisfied: urllib3<1.27,>=1.21.1 in /usr/local/lib/python3.8/dist-packages (from requests>=2.18.4->azure-core<2.0.0,>=1.23.0->azure-ai-formrecognizer==3.2.0) (1.24.3)\n",
            "Requirement already satisfied: chardet<5,>=3.0.2 in /usr/local/lib/python3.8/dist-packages (from requests>=2.18.4->azure-core<2.0.0,>=1.23.0->azure-ai-formrecognizer==3.2.0) (4.0.0)\n",
            "Requirement already satisfied: idna<3,>=2.5 in /usr/local/lib/python3.8/dist-packages (from requests>=2.18.4->azure-core<2.0.0,>=1.23.0->azure-ai-formrecognizer==3.2.0) (2.10)\n",
            "Requirement already satisfied: oauthlib>=3.0.0 in /usr/local/lib/python3.8/dist-packages (from requests-oauthlib>=0.5.0->msrest>=0.6.21->azure-ai-formrecognizer==3.2.0) (3.2.2)\n",
            "Installing collected packages: azure-common, isodate, azure-core, msrest, azure-ai-formrecognizer\n",
            "Successfully installed azure-ai-formrecognizer-3.2.0 azure-common-1.1.28 azure-core-1.26.3 isodate-0.6.1 msrest-0.7.1\n"
          ]
        }
      ]
    },
    {
      "cell_type": "code",
      "source": [
        "!pip install xlsxwriter"
      ],
      "metadata": {
        "colab": {
          "base_uri": "https://localhost:8080/"
        },
        "id": "Io2osqQzWR0H",
        "outputId": "d1453530-36e2-4cfc-bf42-3d4e035f9c47"
      },
      "execution_count": null,
      "outputs": [
        {
          "output_type": "stream",
          "name": "stdout",
          "text": [
            "Looking in indexes: https://pypi.org/simple, https://us-python.pkg.dev/colab-wheels/public/simple/\n",
            "Collecting xlsxwriter\n",
            "  Downloading XlsxWriter-3.0.8-py3-none-any.whl (152 kB)\n",
            "\u001b[2K     \u001b[90m━━━━━━━━━━━━━━━━━━━━━━━━━━━━━━━━━━━━━━━\u001b[0m \u001b[32m152.8/152.8 KB\u001b[0m \u001b[31m5.4 MB/s\u001b[0m eta \u001b[36m0:00:00\u001b[0m\n",
            "\u001b[?25hInstalling collected packages: xlsxwriter\n",
            "Successfully installed xlsxwriter-3.0.8\n"
          ]
        }
      ]
    },
    {
      "cell_type": "code",
      "source": [
        "# import libraries\n",
        "from google.colab import drive\n",
        "drive.mount('/content/gdrive')\n",
        "#drive.mount('/content/drive', force_remount=force_remount)\n",
        "\n",
        "import os\n",
        "import numpy as np\n",
        "import pandas as pd\n",
        "from datetime import date\n",
        "\n",
        "from azure.ai.formrecognizer import DocumentAnalysisClient\n",
        "from azure.core.credentials import AzureKeyCredential\n",
        "\n",
        "os.chdir(\"/content/gdrive/My Drive/Colab Notebooks/Tests\")\n"
      ],
      "metadata": {
        "colab": {
          "base_uri": "https://localhost:8080/"
        },
        "id": "7mqccfOrZH1N",
        "outputId": "5685a822-a368-4161-8bcc-7d73e83cdb75"
      },
      "execution_count": null,
      "outputs": [
        {
          "output_type": "stream",
          "name": "stdout",
          "text": [
            "Mounted at /content/gdrive\n"
          ]
        }
      ]
    },
    {
      "cell_type": "code",
      "source": [
        "def analyze_receipts(receipt):\n",
        "\n",
        "    \n",
        "    # set `<your-endpoint>` and `<your-key>` variables with the values from the Azure portal\n",
        "    endpoint = \"\"\n",
        "    key = \"\"\n",
        "    \n",
        "    # create your `DocumentAnalysisClient` instance and `AzureKeyCredential` variable\n",
        "    \n",
        "    document_analysis_client = DocumentAnalysisClient(endpoint=endpoint, credential=AzureKeyCredential(key))\n",
        "\n",
        "    #receipts_df = pd.DataFrame ([],columns=['Item#','Item_Description','Item_Quantity','Item_total_Price','Merchant_Address','Merchant_Name','Subtotal','Total','TransactionDate','TransactionTime'])\n",
        "\n",
        "\n",
        "    ###This needs to be changed to chg directory next time\n",
        "    currroot=os.getcwd() \n",
        "    print(\"File location using os.getcwd():\", os.getcwd())\n",
        "    receiptpath = os.path.join(currroot, receipt)\n",
        "\n",
        "    with open(receiptpath, \"rb\") as fd:\n",
        "        receiptimg = fd.read()\n",
        "\n",
        "    poller = document_analysis_client.begin_analyze_document(\"prebuilt-receipt\", receiptimg)\n",
        "    result = poller.result()\n",
        "    \n",
        "    #print (\"results are \",result.documents )\n",
        "\n",
        "    receipt_dic={}\n",
        "    receipt_items={}\n",
        "\n",
        "    for receiptimg in result.documents:\n",
        "        for name, field in receiptimg.fields.items():\n",
        "            if name == \"Items\":\n",
        "                print(\"Receipt Items:\")\n",
        "                \n",
        "                \n",
        "                for idx, item in enumerate(field.value):\n",
        "                    print(\"...Item #{}\".format(idx+1))\n",
        "                    #receipts_df.loc[idx,'Item#']=idx\n",
        "                    receipt_items[idx+1]=idx+1\n",
        "                    for item_field_name, item_field in item.value.items():\n",
        "                        print(\"......{}: {} has confidence {}\".format(\n",
        "                            item_field_name, item_field.value, item_field.confidence))\n",
        "                        receipt_items[item_field_name+str(idx+1)]=item_field.value\n",
        "            else:\n",
        "                if not bool (receipt_dic):\n",
        "                  receipt_dic[\"Items\"]= receipt_items\n",
        "                  receipt_dic[name]= field.value\n",
        "                  print(\"{}: {} has confidence {}\".format(name, field.value, field.confidence))\n",
        "\n",
        "\n",
        "                else:\n",
        "                  receipt_dic[name]= field.value\n",
        "                  print(\"{}: {} has confidence {}\".format(name, field.value, field.confidence))\n",
        "\n",
        "    fd.close()\n",
        "    \n",
        "    return receipt_dic\n"
      ],
      "metadata": {
        "id": "eJDMupd0ZWo8"
      },
      "execution_count": null,
      "outputs": []
    },
    {
      "cell_type": "code",
      "source": [
        "\n",
        "receipts_names = [\"FormRecImgs/Receipt.jpg\",\"FormRecImgs/Laroma.jpg\",\"FormRecImgs/Gezira.jpg\",\"FormRecImgs/GANT.jpg\",\"FormRecImgs/Arabic_car_Receipt_1.jpg\",\"FormRecImgs/Arabic_car_Receipt_2.jpg\",\"FormRecImgs/Caribu_2.jpg\",\"FormRecImgs/hand_written_receipt.jpg\"]\n",
        "\n",
        "\n",
        "\n",
        "receipts_len = len (receipts_names)\n",
        "\n",
        "receipts_dic={}\n",
        "\n",
        "\n",
        "if __name__ == \"__main__\":\n",
        "    for i in range (0,receipts_len,1):\n",
        "        #print (\"\\n receipt # {} \\n\".format(i+1))\n",
        "        receipts_dic[\"receipt_no_\"+str(i+1)]=analyze_receipts(receipts_names[i])\n",
        "    \n",
        "    receipts_df = pd.DataFrame (receipts_dic)\n",
        "    print (\"\\n receipts_dic\",receipts_dic)\n",
        "    "
      ],
      "metadata": {
        "colab": {
          "base_uri": "https://localhost:8080/"
        },
        "id": "vUScof5RZW7b",
        "outputId": "edd93daa-a624-4b8b-c251-95a280c5f46e"
      },
      "execution_count": null,
      "outputs": [
        {
          "output_type": "stream",
          "name": "stdout",
          "text": [
            "File location using os.getcwd(): /content/gdrive/MyDrive/Colab Notebooks/Tests\n",
            "Receipt Items:\n",
            "...Item #1\n",
            "......Description: Triple B Coconut Dream 70G has confidence 0.98\n",
            "......Quantity: 1.0 has confidence 0.983\n",
            "......TotalPrice: 49.0 has confidence 0.985\n",
            "MerchantAddress: AddressValue(house_number=None, po_box=None, road=None, city=Gate, state=None, postal_code=None, country_region=Egypt, street_address=) has confidence 0.967\n",
            "MerchantName: Caribou Coffee has confidence 0.972\n",
            "Subtotal: 49.0 has confidence 0.985\n",
            "Total: 49.0 has confidence 0.98\n",
            "TransactionDate: 2023-01-17 has confidence 0.982\n",
            "TransactionTime: 08:33:00 has confidence 0.983\n",
            "File location using os.getcwd(): /content/gdrive/MyDrive/Colab Notebooks/Tests\n",
            "Receipt Items:\n",
            "...Item #1\n",
            "......Description: Forte has confidence 0.43\n",
            "......Quantity: 1.0 has confidence 0.348\n",
            "......TotalPrice: 39.25 has confidence 0.466\n",
            "Subtotal: 39.25 has confidence 0.987\n",
            "Total: 44.75 has confidence 0.988\n",
            "TotalTax: 5.5 has confidence 0.987\n",
            "TransactionDate: 2023-02-04 has confidence 0.988\n",
            "TransactionTime: 09:30:44 has confidence 0.987\n",
            "File location using os.getcwd(): /content/gdrive/MyDrive/Colab Notebooks/Tests\n",
            "Receipt Items:\n",
            "...Item #1\n",
            "......Description: G-Eclair has confidence 0.974\n",
            "......Quantity: 4.0 has confidence 0.968\n",
            "......TotalPrice: 60.0 has confidence 0.984\n",
            "...Item #2\n",
            "......Description: G-Melfa has confidence 0.974\n",
            "......Quantity: 2.0 has confidence 0.968\n",
            "......TotalPrice: 40.0 has confidence 0.984\n",
            "MerchantName: Pastry has confidence 0.535\n",
            "Total: 100.0 has confidence 0.988\n",
            "TransactionDate: 2023-02-04 has confidence 0.989\n",
            "TransactionTime: 09:40:00 has confidence 0.982\n",
            "File location using os.getcwd(): /content/gdrive/MyDrive/Colab Notebooks/Tests\n",
            "Receipt Items:\n",
            "...Item #1\n",
            "......Description: SHIELD C-\n",
            "M,SCARLET has confidence 0.995\n",
            "......Price: 3771.93 has confidence 0.995\n",
            "......Quantity: 1.0 has confidence 0.995\n",
            "......TotalPrice: 1508.77 has confidence 0.995\n",
            "MerchantPhoneNumber: +9711006066222 has confidence 0.973\n",
            "Subtotal: 1508.77 has confidence 0.979\n",
            "Total: 1720.0 has confidence 0.972\n",
            "TransactionDate: 2023-04-02 has confidence 0.979\n",
            "TransactionTime: 19:13:40 has confidence 0.978\n",
            "File location using os.getcwd(): /content/gdrive/MyDrive/Colab Notebooks/Tests\n",
            "MerchantAddress: AddressValue(house_number=6, po_box=None, road=بوابة القاهرة\n",
            "حارة, city=القاهرة, state=None, postal_code=None, country_region=None, street_address=6 بوابة القاهرة\n",
            "حارة) has confidence 0.979\n",
            "MerchantName: شركة الطرق\n",
            "القاهرة/ has confidence 0.979\n",
            "MerchantPhoneNumber: +9715022023 has confidence 0.815\n",
            "File location using os.getcwd(): /content/gdrive/MyDrive/Colab Notebooks/Tests\n",
            "MerchantAddress: AddressValue(house_number=13, po_box=None, road=بوابة القاهرة\n",
            "حارة, city=القاهرة, state=None, postal_code=None, country_region=None, street_address=13 بوابة القاهرة\n",
            "حارة) has confidence 0.88\n",
            "MerchantName: شركة الطرق\n",
            "القاهرة/العين السخنة has confidence 0.988\n",
            "TransactionDate: 2023-02-05 has confidence 0.99\n",
            "TransactionTime: 14:07:00 has confidence 0.988\n",
            "File location using os.getcwd(): /content/gdrive/MyDrive/Colab Notebooks/Tests\n",
            "Receipt Items:\n",
            "...Item #1\n",
            "......Description: Latte M has confidence 0.984\n",
            "......Quantity: 1.0 has confidence 0.985\n",
            "......TotalPrice: 60.0 has confidence 0.986\n",
            "...Item #2\n",
            "......Description: Local Water D has confidence 0.982\n",
            "......Quantity: 1.0 has confidence 0.985\n",
            "......TotalPrice: 15.0 has confidence 0.986\n",
            "MerchantAddress: AddressValue(house_number=None, po_box=None, road=None, city=Gate, state=None, postal_code=None, country_region=Egypt, street_address=) has confidence 0.964\n",
            "MerchantName: Caribou Coffee has confidence 0.973\n",
            "Subtotal: 100.0 has confidence 0.986\n",
            "Total: 100.0 has confidence 0.974\n",
            "TransactionDate: 2023-02-05 has confidence 0.988\n",
            "TransactionTime: 08:12:00 has confidence 0.985\n",
            "File location using os.getcwd(): /content/gdrive/MyDrive/Colab Notebooks/Tests\n",
            "\n",
            " receipts_dic {'receipt_no_1': {'Items': {1: 1, 'Description1': 'Triple B Coconut Dream 70G', 'Quantity1': 1.0, 'TotalPrice1': 49.0}, 'MerchantAddress': AddressValue(house_number=None, po_box=None, road=None, city=Gate, state=None, postal_code=None, country_region=Egypt, street_address=), 'MerchantName': 'Caribou Coffee', 'Subtotal': 49.0, 'Total': 49.0, 'TransactionDate': datetime.date(2023, 1, 17), 'TransactionTime': datetime.time(8, 33)}, 'receipt_no_2': {'Items': {1: 1, 'Description1': 'Forte', 'Quantity1': 1.0, 'TotalPrice1': 39.25}, 'Subtotal': 39.25, 'Total': 44.75, 'TotalTax': 5.5, 'TransactionDate': datetime.date(2023, 2, 4), 'TransactionTime': datetime.time(9, 30, 44)}, 'receipt_no_3': {'Items': {1: 1, 'Description1': 'G-Eclair', 'Quantity1': 4.0, 'TotalPrice1': 60.0, 2: 2, 'Description2': 'G-Melfa', 'Quantity2': 2.0, 'TotalPrice2': 40.0}, 'MerchantName': 'Pastry', 'Total': 100.0, 'TransactionDate': datetime.date(2023, 2, 4), 'TransactionTime': datetime.time(9, 40)}, 'receipt_no_4': {'Items': {1: 1, 'Description1': 'SHIELD C-\\nM,SCARLET', 'Price1': 3771.93, 'Quantity1': 1.0, 'TotalPrice1': 1508.77}, 'MerchantPhoneNumber': '+9711006066222', 'Subtotal': 1508.77, 'Total': 1720.0, 'TransactionDate': datetime.date(2023, 4, 2), 'TransactionTime': datetime.time(19, 13, 40)}, 'receipt_no_5': {'Items': {}, 'MerchantAddress': AddressValue(house_number=6, po_box=None, road=بوابة القاهرة\n",
            "حارة, city=القاهرة, state=None, postal_code=None, country_region=None, street_address=6 بوابة القاهرة\n",
            "حارة), 'MerchantName': 'شركة الطرق\\nالقاهرة/', 'MerchantPhoneNumber': '+9715022023'}, 'receipt_no_6': {'Items': {}, 'MerchantAddress': AddressValue(house_number=13, po_box=None, road=بوابة القاهرة\n",
            "حارة, city=القاهرة, state=None, postal_code=None, country_region=None, street_address=13 بوابة القاهرة\n",
            "حارة), 'MerchantName': 'شركة الطرق\\nالقاهرة/العين السخنة', 'TransactionDate': datetime.date(2023, 2, 5), 'TransactionTime': datetime.time(14, 7)}, 'receipt_no_7': {'Items': {1: 1, 'Description1': 'Latte M', 'Quantity1': 1.0, 'TotalPrice1': 60.0, 2: 2, 'Description2': 'Local Water D', 'Quantity2': 1.0, 'TotalPrice2': 15.0}, 'MerchantAddress': AddressValue(house_number=None, po_box=None, road=None, city=Gate, state=None, postal_code=None, country_region=Egypt, street_address=), 'MerchantName': 'Caribou Coffee', 'Subtotal': 100.0, 'Total': 100.0, 'TransactionDate': datetime.date(2023, 2, 5), 'TransactionTime': datetime.time(8, 12)}, 'receipt_no_8': {}}\n"
          ]
        }
      ]
    },
    {
      "cell_type": "code",
      "source": [
        "#get current path\n",
        "currpath=os.getcwd()\n",
        "print (\"current path is\",currpath)\n",
        "\n",
        "current_date = today = str (date.today())\n",
        "\n",
        "print (\"current day is \",current_date)\n",
        "\n",
        "# Create a Pandas Excel writer using XlsxWriter\n",
        "\n",
        "output_path = 'receipts'+current_date+'.xlsx'\n",
        "\n",
        "writer = pd.ExcelWriter(output_path, engine='xlsxwriter')\n",
        "\n",
        "receipts_df.to_excel(writer,sheet_name='Receipts')\n",
        "\n",
        "\n",
        "\n",
        "# Save Data to File\n",
        "writer.save()\n",
        "\n",
        "print (writer)\n",
        "\n",
        "writer.close()"
      ],
      "metadata": {
        "colab": {
          "base_uri": "https://localhost:8080/"
        },
        "id": "0ZQfm9y0ToUS",
        "outputId": "ee117069-5d6d-43fc-8beb-5c180e1cef35"
      },
      "execution_count": null,
      "outputs": [
        {
          "output_type": "stream",
          "name": "stdout",
          "text": [
            "current path is /content/gdrive/MyDrive/Colab Notebooks/Tests\n",
            "current day is  2023-02-13\n",
            "<pandas.io.excel._xlsxwriter.XlsxWriter object at 0x7f3784c12670>\n"
          ]
        },
        {
          "output_type": "stream",
          "name": "stderr",
          "text": [
            "/usr/local/lib/python3.8/dist-packages/xlsxwriter/workbook.py:339: UserWarning: Calling close() on already closed file.\n",
            "  warn(\"Calling close() on already closed file.\")\n"
          ]
        }
      ]
    },
    {
      "cell_type": "code",
      "source": [
        "Receipt_1_Item_1 ={'Item_no':1,'Description':'late','Quantity':1,'Price':49}\n",
        "Receipt_1_Item_2 ={'Item_no':2,'Description':'Triple B Coconut Dream 70G','Quantity':1,'Price':100}\n",
        "Receipt_1_overall ={'Merchant':'Caribou Coffee','total':149,'Address':'Heliopolis,Egypt','Transaction_Date':'2023-01-17'}\n",
        "Receipt_2_Item_1 ={'Item_no':1,'Description':'G-Eclair','Quantity':4,'Price':60}\n",
        "Receipt_2_Item_2 ={'Item_no':2,'Description':'G-Melf','Quantity':2,'Price':40}\n",
        "Receipt_2_overall ={'Merchant':'Pastry','total':100,'Address':'Zamalek','Transaction_Date':'2023-01-19'}\n",
        "Receipt_3_Item_1 ={'Item_no':1,'Description':'Description: SHIELD C-M,SCARLET','Quantity':1,'Price':1508.77}\n",
        "Receipt_3_overall ={'Merchant':'GANT','total':1720,'Address':'City Center','Transaction_Date':'2023-01-23'}"
      ],
      "metadata": {
        "id": "2sjT0kzJpxJo"
      },
      "execution_count": null,
      "outputs": []
    },
    {
      "cell_type": "code",
      "source": [
        "Receipt_1 = {'Item_1':Receipt_1_Item_1,'Item_2':Receipt_1_Item_2,'Items_overall':Receipt_1_overall}\n",
        "Receipt_2 = {'Item_1':Receipt_2_Item_1,'Item_2':Receipt_2_Item_2,'Items_overall':Receipt_2_overall}\n",
        "Receipt_3 = {'Item_1':Receipt_3_Item_1,'Items_overall':Receipt_3_overall}\n",
        "\n",
        "Receipts= {'Receipt_1':Receipt_1,'Receipt_2':Receipt_2,'Receipt_3':Receipt_3}"
      ],
      "metadata": {
        "id": "S_WvJOogPQR3"
      },
      "execution_count": null,
      "outputs": []
    },
    {
      "cell_type": "code",
      "source": [
        "Receipts"
      ],
      "metadata": {
        "colab": {
          "base_uri": "https://localhost:8080/"
        },
        "id": "NGo3KJoDQqx3",
        "outputId": "304fd98b-4e0a-4199-ce58-20181d5c828a"
      },
      "execution_count": null,
      "outputs": [
        {
          "output_type": "execute_result",
          "data": {
            "text/plain": [
              "{'Receipt_1': {'Item_1': {'Item_no': 1,\n",
              "   'Description': 'late',\n",
              "   'Quantity': 1,\n",
              "   'Price': 49},\n",
              "  'Item_2': {'Item_no': 2,\n",
              "   'Description': 'Triple B Coconut Dream 70G',\n",
              "   'Quantity': 1,\n",
              "   'Price': 100},\n",
              "  'Items_overall': {'Merchant': 'Caribou Coffee',\n",
              "   'total': 149,\n",
              "   'Address': 'Heliopolis,Egypt',\n",
              "   'Transaction_Date': '2023-01-17'}},\n",
              " 'Receipt_2': {'Item_1': {'Item_no': 1,\n",
              "   'Description': 'G-Eclair',\n",
              "   'Quantity': 4,\n",
              "   'Price': 60},\n",
              "  'Item_2': {'Item_no': 2,\n",
              "   'Description': 'G-Melf',\n",
              "   'Quantity': 2,\n",
              "   'Price': 40},\n",
              "  'Items_overall': {'Merchant': 'Pastry',\n",
              "   'total': 100,\n",
              "   'Address': 'Zamalek',\n",
              "   'Transaction_Date': '2023-01-19'}},\n",
              " 'Receipt_3': {'Item_1': {'Item_no': 1,\n",
              "   'Description': 'Description: SHIELD C-M,SCARLET',\n",
              "   'Quantity': 1,\n",
              "   'Price': 1508.77},\n",
              "  'Items_overall': {'Merchant': 'GANT',\n",
              "   'total': 1720,\n",
              "   'Address': 'City Center',\n",
              "   'Transaction_Date': '2023-01-23'}}}"
            ]
          },
          "metadata": {},
          "execution_count": 21
        }
      ]
    }
  ]
}