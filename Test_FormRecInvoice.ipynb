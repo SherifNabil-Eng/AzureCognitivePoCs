{
  "nbformat": 4,
  "nbformat_minor": 0,
  "metadata": {
    "colab": {
      "provenance": [],
      "authorship_tag": "ABX9TyMSahPWmLz6ox6pgx44VXk/",
      "include_colab_link": true
    },
    "kernelspec": {
      "name": "python3",
      "display_name": "Python 3"
    },
    "language_info": {
      "name": "python"
    }
  },
  "cells": [
    {
      "cell_type": "markdown",
      "metadata": {
        "id": "view-in-github",
        "colab_type": "text"
      },
      "source": [
        "<a href=\"https://colab.research.google.com/github/SherifNabil-Eng/AzureCognitivePoCs/blob/main/Test_FormRecInvoice.ipynb\" target=\"_parent\"><img src=\"https://colab.research.google.com/assets/colab-badge.svg\" alt=\"Open In Colab\"/></a>"
      ]
    },
    {
      "cell_type": "code",
      "source": [
        " !pip install azure-ai-formrecognizer==3.2.0"
      ],
      "metadata": {
        "colab": {
          "base_uri": "https://localhost:8080/"
        },
        "id": "W0r7dvQaZG9P",
        "outputId": "d9cf9933-4ff4-45a7-98a5-c978c2fa861d"
      },
      "execution_count": null,
      "outputs": [
        {
          "output_type": "stream",
          "name": "stdout",
          "text": [
            "Looking in indexes: https://pypi.org/simple, https://us-python.pkg.dev/colab-wheels/public/simple/\n",
            "Collecting azure-ai-formrecognizer==3.2.0\n",
            "  Downloading azure_ai_formrecognizer-3.2.0-py3-none-any.whl (228 kB)\n",
            "\u001b[2K     \u001b[90m━━━━━━━━━━━━━━━━━━━━━━━━━━━━━━━━━━━━━━━\u001b[0m \u001b[32m228.4/228.4 KB\u001b[0m \u001b[31m7.7 MB/s\u001b[0m eta \u001b[36m0:00:00\u001b[0m\n",
            "\u001b[?25hCollecting azure-common~=1.1\n",
            "  Downloading azure_common-1.1.28-py2.py3-none-any.whl (14 kB)\n",
            "Collecting azure-core<2.0.0,>=1.23.0\n",
            "  Downloading azure_core-1.26.3-py3-none-any.whl (174 kB)\n",
            "\u001b[2K     \u001b[90m━━━━━━━━━━━━━━━━━━━━━━━━━━━━━━━━━━━━━━\u001b[0m \u001b[32m174.5/174.5 KB\u001b[0m \u001b[31m17.7 MB/s\u001b[0m eta \u001b[36m0:00:00\u001b[0m\n",
            "\u001b[?25hRequirement already satisfied: typing-extensions>=4.0.1 in /usr/local/lib/python3.8/dist-packages (from azure-ai-formrecognizer==3.2.0) (4.4.0)\n",
            "Collecting msrest>=0.6.21\n",
            "  Downloading msrest-0.7.1-py3-none-any.whl (85 kB)\n",
            "\u001b[2K     \u001b[90m━━━━━━━━━━━━━━━━━━━━━━━━━━━━━━━━━━━━━━━━\u001b[0m \u001b[32m85.4/85.4 KB\u001b[0m \u001b[31m10.5 MB/s\u001b[0m eta \u001b[36m0:00:00\u001b[0m\n",
            "\u001b[?25hRequirement already satisfied: six>=1.11.0 in /usr/local/lib/python3.8/dist-packages (from azure-core<2.0.0,>=1.23.0->azure-ai-formrecognizer==3.2.0) (1.15.0)\n",
            "Requirement already satisfied: requests>=2.18.4 in /usr/local/lib/python3.8/dist-packages (from azure-core<2.0.0,>=1.23.0->azure-ai-formrecognizer==3.2.0) (2.25.1)\n",
            "Collecting isodate>=0.6.0\n",
            "  Downloading isodate-0.6.1-py2.py3-none-any.whl (41 kB)\n",
            "\u001b[2K     \u001b[90m━━━━━━━━━━━━━━━━━━━━━━━━━━━━━━━━━━━━━━━━\u001b[0m \u001b[32m41.7/41.7 KB\u001b[0m \u001b[31m4.6 MB/s\u001b[0m eta \u001b[36m0:00:00\u001b[0m\n",
            "\u001b[?25hRequirement already satisfied: certifi>=2017.4.17 in /usr/local/lib/python3.8/dist-packages (from msrest>=0.6.21->azure-ai-formrecognizer==3.2.0) (2022.12.7)\n",
            "Requirement already satisfied: requests-oauthlib>=0.5.0 in /usr/local/lib/python3.8/dist-packages (from msrest>=0.6.21->azure-ai-formrecognizer==3.2.0) (1.3.1)\n",
            "Requirement already satisfied: urllib3<1.27,>=1.21.1 in /usr/local/lib/python3.8/dist-packages (from requests>=2.18.4->azure-core<2.0.0,>=1.23.0->azure-ai-formrecognizer==3.2.0) (1.24.3)\n",
            "Requirement already satisfied: chardet<5,>=3.0.2 in /usr/local/lib/python3.8/dist-packages (from requests>=2.18.4->azure-core<2.0.0,>=1.23.0->azure-ai-formrecognizer==3.2.0) (4.0.0)\n",
            "Requirement already satisfied: idna<3,>=2.5 in /usr/local/lib/python3.8/dist-packages (from requests>=2.18.4->azure-core<2.0.0,>=1.23.0->azure-ai-formrecognizer==3.2.0) (2.10)\n",
            "Requirement already satisfied: oauthlib>=3.0.0 in /usr/local/lib/python3.8/dist-packages (from requests-oauthlib>=0.5.0->msrest>=0.6.21->azure-ai-formrecognizer==3.2.0) (3.2.2)\n",
            "Installing collected packages: azure-common, isodate, azure-core, msrest, azure-ai-formrecognizer\n",
            "Successfully installed azure-ai-formrecognizer-3.2.0 azure-common-1.1.28 azure-core-1.26.3 isodate-0.6.1 msrest-0.7.1\n"
          ]
        }
      ]
    },
    {
      "cell_type": "code",
      "source": [
        "!pip install xlsxwriter"
      ],
      "metadata": {
        "colab": {
          "base_uri": "https://localhost:8080/"
        },
        "id": "Io2osqQzWR0H",
        "outputId": "efa5f654-9993-4f52-ab5f-6b763649ab58"
      },
      "execution_count": null,
      "outputs": [
        {
          "output_type": "stream",
          "name": "stdout",
          "text": [
            "Looking in indexes: https://pypi.org/simple, https://us-python.pkg.dev/colab-wheels/public/simple/\n",
            "Collecting xlsxwriter\n",
            "  Downloading XlsxWriter-3.0.8-py3-none-any.whl (152 kB)\n",
            "\u001b[2K     \u001b[90m━━━━━━━━━━━━━━━━━━━━━━━━━━━━━━━━━━━━━━━\u001b[0m \u001b[32m152.8/152.8 KB\u001b[0m \u001b[31m5.5 MB/s\u001b[0m eta \u001b[36m0:00:00\u001b[0m\n",
            "\u001b[?25hInstalling collected packages: xlsxwriter\n",
            "Successfully installed xlsxwriter-3.0.8\n"
          ]
        }
      ]
    },
    {
      "cell_type": "code",
      "source": [
        "# import libraries\n",
        "from google.colab import drive\n",
        "drive.mount('/content/gdrive')\n",
        "#drive.mount('/content/drive', force_remount=force_remount)\n",
        "\n",
        "import os\n",
        "import numpy as np\n",
        "import pandas as pd\n",
        "from datetime import date\n",
        "\n",
        "from azure.ai.formrecognizer import DocumentAnalysisClient\n",
        "from azure.core.credentials import AzureKeyCredential\n",
        "\n",
        "os.chdir(\"/content/gdrive/My Drive/Colab Notebooks/Tests\")\n"
      ],
      "metadata": {
        "colab": {
          "base_uri": "https://localhost:8080/"
        },
        "id": "7mqccfOrZH1N",
        "outputId": "57669090-8dc2-4400-8ead-5d73bc92d335"
      },
      "execution_count": null,
      "outputs": [
        {
          "output_type": "stream",
          "name": "stdout",
          "text": [
            "Mounted at /content/gdrive\n"
          ]
        }
      ]
    },
    {
      "cell_type": "code",
      "source": [
        "def analyze_receipts(receipt):\n",
        "\n",
        "    \n",
        "    # set `<your-endpoint>` and `<your-key>` variables with the values from the Azure portal\n",
        "    endpoint = \"https://cognservgen.cognitiveservices.azure.com/\"\n",
        "    key = \"fba635423d6547248dd57386dd6220e4\"\n",
        "    \n",
        "    # create your `DocumentAnalysisClient` instance and `AzureKeyCredential` variable\n",
        "    \n",
        "    document_analysis_client = DocumentAnalysisClient(endpoint=endpoint, credential=AzureKeyCredential(key))\n",
        "\n",
        "    #receipts_df = pd.DataFrame ([],columns=['Item#','Item_Description','Item_Quantity','Item_total_Price','Merchant_Address','Merchant_Name','Subtotal','Total','TransactionDate','TransactionTime'])\n",
        "\n",
        "\n",
        "    ###This needs to be changed to chg directory next time\n",
        "    currroot=os.getcwd() \n",
        "    print(\"File location using os.getcwd():\", os.getcwd())\n",
        "    receiptpath = os.path.join(currroot, receipt)\n",
        "\n",
        "    with open(receiptpath, \"rb\") as fd:\n",
        "        receiptimg = fd.read()\n",
        "\n",
        "    poller = document_analysis_client.begin_analyze_document(\"prebuilt-receipt\", receiptimg)\n",
        "    result = poller.result()\n",
        "    \n",
        "    print (\"results are \",result.documents )\n",
        "\n",
        "    receipt_dic={}\n",
        "    receipt_items={}\n",
        "\n",
        "    for receiptimg in result.documents:\n",
        "        for name, field in receiptimg.fields.items():\n",
        "            if name == \"Items\":\n",
        "                print(\"Receipt Items:\")\n",
        "                \n",
        "                \n",
        "                for idx, item in enumerate(field.value):\n",
        "                    print(\"...Item #{}\".format(idx+1))\n",
        "                    #receipts_df.loc[idx,'Item#']=idx\n",
        "                    receipt_items[idx+1]=idx+1\n",
        "                    for item_field_name, item_field in item.value.items():\n",
        "                        print(\"......{}: {} has confidence {}\".format(\n",
        "                            item_field_name, item_field.value, item_field.confidence))\n",
        "                        receipt_items[item_field_name]=item_field.value\n",
        "            else:\n",
        "                if not bool (receipt_dic):\n",
        "                  receipt_dic[\"Items\"]= receipt_items\n",
        "                  receipt_dic[name]= field.value\n",
        "                  print(\"{}: {} has confidence {}\".format(name, field.value, field.confidence))\n",
        "\n",
        "\n",
        "                else:\n",
        "                  receipt_dic[name]= field.value\n",
        "                  print(\"{}: {} has confidence {}\".format(name, field.value, field.confidence))\n",
        "\n",
        "    fd.close()\n",
        "    \n",
        "    return receipt_dic\n"
      ],
      "metadata": {
        "id": "eJDMupd0ZWo8"
      },
      "execution_count": null,
      "outputs": []
    },
    {
      "cell_type": "code",
      "source": [
        "\n",
        "receipts_names = [\"FormRecImgs/Receipt.jpg\",\"FormRecImgs/Laroma.jpg\",\"FormRecImgs/Gezira.jpg\",\"FormRecImgs/GANT.jpg\",\"FormRecImgs/Arabic_car_Receipt_1.jpg\",\"FormRecImgs/Arabic_car_Receipt_2.jpg\",\"FormRecImgs/Caribu_2.jpg\",\"FormRecImgs/hand_written_receipt.jpg\"]\n",
        "\n",
        "\n",
        "\n",
        "receipts_len = len (receipts_names)\n",
        "\n",
        "receipts_dic={}\n",
        "\n",
        "\n",
        "if __name__ == \"__main__\":\n",
        "    for i in range (0,receipts_len,1):\n",
        "        print (\"\\n receipt # {} \\n\".format(i+1))\n",
        "        receipts_dic[\"receipt_no_\"+str(i+1)]=analyze_receipts(receipts_names[i])\n",
        "    \n",
        "    receipts_df = pd.DataFrame (receipts_dic)\n",
        "    print (\"\\n receipts_df\",receipts_df)"
      ],
      "metadata": {
        "colab": {
          "base_uri": "https://localhost:8080/"
        },
        "id": "vUScof5RZW7b",
        "outputId": "8518e92b-97fc-468e-972d-30de25a895c8"
      },
      "execution_count": null,
      "outputs": [
        {
          "output_type": "stream",
          "name": "stdout",
          "text": [
            "\n",
            " receipt # 1 \n",
            "\n",
            "File location using os.getcwd(): /content/gdrive/My Drive/Colab Notebooks/Tests\n",
            "results are  [AnalyzedDocument(doc_type=receipt.retailMeal, bounding_regions=[BoundingRegion(page_number=1, polygon=[Point(x=0.0, y=0.0), Point(x=561.0, y=0.0), Point(x=561.0, y=1024.0), Point(x=0.0, y=1024.0)])], spans=[DocumentSpan(offset=0, length=462)], fields={'Items': DocumentField(value_type=list, value=[DocumentField(value_type=dictionary, value={'Description': DocumentField(value_type=string, value='Triple B Coconut Dream 70G', content=Triple B Coconut Dream 70G, bounding_regions=[BoundingRegion(page_number=1, polygon=[Point(x=41.0, y=484.0), Point(x=365.0, y=480.0), Point(x=365.0, y=508.0), Point(x=41.0, y=512.0)])], spans=[DocumentSpan(offset=169, length=26)], confidence=0.98), 'Quantity': DocumentField(value_type=float, value=1.0, content=1, bounding_regions=[BoundingRegion(page_number=1, polygon=[Point(x=21.0, y=484.0), Point(x=36.0, y=484.0), Point(x=36.0, y=512.0), Point(x=21.0, y=512.0)])], spans=[DocumentSpan(offset=167, length=1)], confidence=0.983), 'TotalPrice': DocumentField(value_type=float, value=49.0, content=49.00, bounding_regions=[BoundingRegion(page_number=1, polygon=[Point(x=364.0, y=511.0), Point(x=425.0, y=511.0), Point(x=425.0, y=535.0), Point(x=364.0, y=535.0)])], spans=[DocumentSpan(offset=196, length=5)], confidence=0.985)}, content=1 Triple B Coconut Dream 70G\n",
            "49.00, bounding_regions=[BoundingRegion(page_number=1, polygon=[Point(x=21.0, y=484.0), Point(x=425.0, y=481.0), Point(x=425.0, y=535.0), Point(x=21.0, y=538.0)])], spans=[DocumentSpan(offset=167, length=34)], confidence=0.391)], content=None, bounding_regions=[], spans=[], confidence=None), 'MerchantAddress': DocumentField(value_type=address, value=AddressValue(house_number=None, po_box=None, road=None, city=Gate, state=None, postal_code=None, country_region=Egypt, street_address=), content=Tivoli Dome Investment Gate Egypt, bounding_regions=[BoundingRegion(page_number=1, polygon=[Point(x=117.0, y=155.0), Point(x=371.0, y=156.0), Point(x=371.0, y=210.0), Point(x=117.0, y=209.0)])], spans=[DocumentSpan(offset=15, length=33)], confidence=0.967), 'MerchantName': DocumentField(value_type=string, value='Caribou Coffee', content=Caribou Coffee, bounding_regions=[BoundingRegion(page_number=1, polygon=[Point(x=152.0, y=125.0), Point(x=321.0, y=127.0), Point(x=321.0, y=154.0), Point(x=152.0, y=152.0)])], spans=[DocumentSpan(offset=0, length=14)], confidence=0.972), 'Subtotal': DocumentField(value_type=float, value=49.0, content=LE49.00, bounding_regions=[BoundingRegion(page_number=1, polygon=[Point(x=342.0, y=602.0), Point(x=428.0, y=600.0), Point(x=428.0, y=625.0), Point(x=341.0, y=625.0)])], spans=[DocumentSpan(offset=239, length=7)], confidence=0.985), 'Total': DocumentField(value_type=float, value=49.0, content=LE49.00, bounding_regions=[BoundingRegion(page_number=1, polygon=[Point(x=331.0, y=630.0), Point(x=492.0, y=630.0), Point(x=492.0, y=656.0), Point(x=332.0, y=657.0)])], spans=[DocumentSpan(offset=247, length=7)], confidence=0.98), 'TransactionDate': DocumentField(value_type=date, value=datetime.date(2023, 1, 17), content=17 Jan 23, bounding_regions=[BoundingRegion(page_number=1, polygon=[Point(x=148.0, y=394.0), Point(x=255.0, y=394.0), Point(x=255.0, y=419.0), Point(x=148.0, y=419.0)])], spans=[DocumentSpan(offset=130, length=9)], confidence=0.982), 'TransactionTime': DocumentField(value_type=time, value=datetime.time(8, 33), content=08:33 AM, bounding_regions=[BoundingRegion(page_number=1, polygon=[Point(x=261.0, y=394.0), Point(x=361.0, y=392.0), Point(x=361.0, y=418.0), Point(x=261.0, y=419.0)])], spans=[DocumentSpan(offset=140, length=8)], confidence=0.983)}, confidence=0.989)]\n",
            "Receipt Items:\n",
            "...Item #1\n",
            "......Description: Triple B Coconut Dream 70G has confidence 0.98\n",
            "......Quantity: 1.0 has confidence 0.983\n",
            "......TotalPrice: 49.0 has confidence 0.985\n",
            "MerchantAddress: AddressValue(house_number=None, po_box=None, road=None, city=Gate, state=None, postal_code=None, country_region=Egypt, street_address=) has confidence 0.967\n",
            "MerchantName: Caribou Coffee has confidence 0.972\n",
            "Subtotal: 49.0 has confidence 0.985\n",
            "Total: 49.0 has confidence 0.98\n",
            "TransactionDate: 2023-01-17 has confidence 0.982\n",
            "TransactionTime: 08:33:00 has confidence 0.983\n",
            "\n",
            " receipt # 2 \n",
            "\n",
            "File location using os.getcwd(): /content/gdrive/My Drive/Colab Notebooks/Tests\n",
            "results are  [AnalyzedDocument(doc_type=receipt.retailMeal, bounding_regions=[BoundingRegion(page_number=1, polygon=[Point(x=0.0, y=0.0), Point(x=768.0, y=0.0), Point(x=768.0, y=1024.0), Point(x=0.0, y=1024.0)])], spans=[DocumentSpan(offset=0, length=152)], fields={'Items': DocumentField(value_type=list, value=[DocumentField(value_type=dictionary, value={'Description': DocumentField(value_type=string, value='Forte', content=Forte, bounding_regions=[BoundingRegion(page_number=1, polygon=[Point(x=189.0, y=553.0), Point(x=245.0, y=553.0), Point(x=245.0, y=577.0), Point(x=190.0, y=578.0)])], spans=[DocumentSpan(offset=19, length=5)], confidence=0.43), 'Quantity': DocumentField(value_type=float, value=1.0, content=1, bounding_regions=[BoundingRegion(page_number=1, polygon=[Point(x=175.0, y=553.0), Point(x=184.0, y=553.0), Point(x=185.0, y=578.0), Point(x=175.0, y=578.0)])], spans=[DocumentSpan(offset=17, length=1)], confidence=0.348), 'TotalPrice': DocumentField(value_type=float, value=39.25, content=39,25, bounding_regions=[BoundingRegion(page_number=1, polygon=[Point(x=366.0, y=551.0), Point(x=415.0, y=551.0), Point(x=415.0, y=577.0), Point(x=366.0, y=577.0)])], spans=[DocumentSpan(offset=25, length=5)], confidence=0.466)}, content=1 Forte 39,25, bounding_regions=[BoundingRegion(page_number=1, polygon=[Point(x=175.0, y=551.0), Point(x=415.0, y=551.0), Point(x=415.0, y=578.0), Point(x=175.0, y=578.0)])], spans=[DocumentSpan(offset=17, length=13)], confidence=0.847)], content=None, bounding_regions=[], spans=[], confidence=None), 'Subtotal': DocumentField(value_type=float, value=39.25, content=39,25, bounding_regions=[BoundingRegion(page_number=1, polygon=[Point(x=367.0, y=595.0), Point(x=414.0, y=594.0), Point(x=414.0, y=609.0), Point(x=367.0, y=609.0)])], spans=[DocumentSpan(offset=41, length=5)], confidence=0.987), 'Total': DocumentField(value_type=float, value=44.75, content=44,75, bounding_regions=[BoundingRegion(page_number=1, polygon=[Point(x=367.0, y=623.0), Point(x=417.0, y=623.0), Point(x=417.0, y=645.0), Point(x=367.0, y=645.0)])], spans=[DocumentSpan(offset=68, length=5)], confidence=0.988), 'TotalTax': DocumentField(value_type=float, value=5.5, content=5,50, bounding_regions=[BoundingRegion(page_number=1, polygon=[Point(x=376.0, y=608.0), Point(x=413.0, y=608.0), Point(x=413.0, y=622.0), Point(x=376.0, y=622.0)])], spans=[DocumentSpan(offset=55, length=4)], confidence=0.987), 'TransactionDate': DocumentField(value_type=date, value=datetime.date(2023, 2, 4), content=4- 2-2023, bounding_regions=[BoundingRegion(page_number=1, polygon=[Point(x=214.0, y=705.0), Point(x=311.0, y=702.0), Point(x=311.0, y=717.0), Point(x=214.0, y=720.0)])], spans=[DocumentSpan(offset=89, length=9)], confidence=0.988), 'TransactionTime': DocumentField(value_type=time, value=datetime.time(9, 30, 44), content=9:30:44A, bounding_regions=[BoundingRegion(page_number=1, polygon=[Point(x=336.0, y=701.0), Point(x=420.0, y=699.0), Point(x=420.0, y=716.0), Point(x=335.0, y=717.0)])], spans=[DocumentSpan(offset=99, length=8)], confidence=0.987)}, confidence=0.0)]\n",
            "Receipt Items:\n",
            "...Item #1\n",
            "......Description: Forte has confidence 0.43\n",
            "......Quantity: 1.0 has confidence 0.348\n",
            "......TotalPrice: 39.25 has confidence 0.466\n",
            "Subtotal: 39.25 has confidence 0.987\n",
            "Total: 44.75 has confidence 0.988\n",
            "TotalTax: 5.5 has confidence 0.987\n",
            "TransactionDate: 2023-02-04 has confidence 0.988\n",
            "TransactionTime: 09:30:44 has confidence 0.987\n",
            "\n",
            " receipt # 3 \n",
            "\n",
            "File location using os.getcwd(): /content/gdrive/My Drive/Colab Notebooks/Tests\n",
            "results are  [AnalyzedDocument(doc_type=receipt.retailMeal, bounding_regions=[BoundingRegion(page_number=1, polygon=[Point(x=0.0, y=0.0), Point(x=768.0, y=0.0), Point(x=768.0, y=1024.0), Point(x=0.0, y=1024.0)])], spans=[DocumentSpan(offset=0, length=193)], fields={'Items': DocumentField(value_type=list, value=[DocumentField(value_type=dictionary, value={'Description': DocumentField(value_type=string, value='G-Eclair', content=G-Eclair, bounding_regions=[BoundingRegion(page_number=1, polygon=[Point(x=211.0, y=617.0), Point(x=295.0, y=619.0), Point(x=294.0, y=639.0), Point(x=210.0, y=637.0)])], spans=[DocumentSpan(offset=106, length=8)], confidence=0.974), 'Quantity': DocumentField(value_type=float, value=4.0, content=4, bounding_regions=[BoundingRegion(page_number=1, polygon=[Point(x=194.0, y=616.0), Point(x=207.0, y=617.0), Point(x=206.0, y=636.0), Point(x=194.0, y=636.0)])], spans=[DocumentSpan(offset=104, length=1)], confidence=0.968), 'TotalPrice': DocumentField(value_type=float, value=60.0, content=60.00, bounding_regions=[BoundingRegion(page_number=1, polygon=[Point(x=492.0, y=617.0), Point(x=542.0, y=619.0), Point(x=541.0, y=637.0), Point(x=491.0, y=635.0)])], spans=[DocumentSpan(offset=98, length=5)], confidence=0.984)}, content=60.00 4 G-Eclair, bounding_regions=[BoundingRegion(page_number=1, polygon=[Point(x=194.0, y=605.0), Point(x=542.0, y=619.0), Point(x=541.0, y=650.0), Point(x=193.0, y=636.0)])], spans=[DocumentSpan(offset=98, length=16)], confidence=0.791), DocumentField(value_type=dictionary, value={'Description': DocumentField(value_type=string, value='G-Melfa', content=G-Melfa, bounding_regions=[BoundingRegion(page_number=1, polygon=[Point(x=211.0, y=640.0), Point(x=284.0, y=643.0), Point(x=283.0, y=664.0), Point(x=211.0, y=661.0)])], spans=[DocumentSpan(offset=117, length=7)], confidence=0.974), 'Quantity': DocumentField(value_type=float, value=2.0, content=2, bounding_regions=[BoundingRegion(page_number=1, polygon=[Point(x=194.0, y=639.0), Point(x=207.0, y=640.0), Point(x=206.0, y=661.0), Point(x=193.0, y=661.0)])], spans=[DocumentSpan(offset=115, length=1)], confidence=0.968), 'TotalPrice': DocumentField(value_type=float, value=40.0, content=40.00, bounding_regions=[BoundingRegion(page_number=1, polygon=[Point(x=493.0, y=641.0), Point(x=540.0, y=642.0), Point(x=540.0, y=660.0), Point(x=493.0, y=659.0)])], spans=[DocumentSpan(offset=125, length=5)], confidence=0.984)}, content=2 G-Melfa 40.00, bounding_regions=[BoundingRegion(page_number=1, polygon=[Point(x=194.0, y=629.0), Point(x=541.0, y=642.0), Point(x=539.0, y=674.0), Point(x=193.0, y=661.0)])], spans=[DocumentSpan(offset=115, length=15)], confidence=0.791)], content=None, bounding_regions=[], spans=[], confidence=None), 'MerchantName': DocumentField(value_type=string, value='Pastry', content=Pastry, bounding_regions=[BoundingRegion(page_number=1, polygon=[Point(x=319.0, y=419.0), Point(x=386.0, y=421.0), Point(x=385.0, y=445.0), Point(x=318.0, y=442.0)])], spans=[DocumentSpan(offset=10, length=6)], confidence=0.535), 'Total': DocumentField(value_type=float, value=100.0, content=100.00, bounding_regions=[BoundingRegion(page_number=1, polygon=[Point(x=426.0, y=739.0), Point(x=532.0, y=738.0), Point(x=532.0, y=760.0), Point(x=427.0, y=760.0)])], spans=[DocumentSpan(offset=151, length=6)], confidence=0.988), 'TransactionDate': DocumentField(value_type=date, value=datetime.date(2023, 2, 4), content=Feb04'23, bounding_regions=[BoundingRegion(page_number=1, polygon=[Point(x=297.0, y=544.0), Point(x=380.0, y=544.0), Point(x=380.0, y=568.0), Point(x=296.0, y=567.0)])], spans=[DocumentSpan(offset=53, length=8)], confidence=0.989), 'TransactionTime': DocumentField(value_type=time, value=datetime.time(9, 40), content=09:40AM, bounding_regions=[BoundingRegion(page_number=1, polygon=[Point(x=379.0, y=787.0), Point(x=452.0, y=785.0), Point(x=452.0, y=808.0), Point(x=379.0, y=810.0)])], spans=[DocumentSpan(offset=186, length=7)], confidence=0.982)}, confidence=0.969)]\n",
            "Receipt Items:\n",
            "...Item #1\n",
            "......Description: G-Eclair has confidence 0.974\n",
            "......Quantity: 4.0 has confidence 0.968\n",
            "......TotalPrice: 60.0 has confidence 0.984\n",
            "...Item #2\n",
            "......Description: G-Melfa has confidence 0.974\n",
            "......Quantity: 2.0 has confidence 0.968\n",
            "......TotalPrice: 40.0 has confidence 0.984\n",
            "MerchantName: Pastry has confidence 0.535\n",
            "Total: 100.0 has confidence 0.988\n",
            "TransactionDate: 2023-02-04 has confidence 0.989\n",
            "TransactionTime: 09:40:00 has confidence 0.982\n",
            "\n",
            " receipt # 4 \n",
            "\n",
            "File location using os.getcwd(): /content/gdrive/My Drive/Colab Notebooks/Tests\n",
            "results are  [AnalyzedDocument(doc_type=receipt.retailMeal, bounding_regions=[BoundingRegion(page_number=1, polygon=[Point(x=0.0, y=0.0), Point(x=768.0, y=0.0), Point(x=768.0, y=1024.0), Point(x=0.0, y=1024.0)])], spans=[DocumentSpan(offset=0, length=1032)], fields={'Items': DocumentField(value_type=list, value=[DocumentField(value_type=dictionary, value={'Description': DocumentField(value_type=string, value='SHIELD C-\\nM,SCARLET', content=SHIELD C-\n",
            "M,SCARLET, bounding_regions=[BoundingRegion(page_number=1, polygon=[Point(x=212.0, y=438.0), Point(x=371.0, y=438.0), Point(x=371.0, y=461.0), Point(x=212.0, y=461.0)])], spans=[DocumentSpan(offset=265, length=9), DocumentSpan(offset=283, length=9)], confidence=0.995), 'Price': DocumentField(value_type=float, value=3771.93, content=3771.93, bounding_regions=[BoundingRegion(page_number=1, polygon=[Point(x=422.0, y=446.0), Point(x=473.0, y=447.0), Point(x=473.0, y=462.0), Point(x=422.0, y=461.0)])], spans=[DocumentSpan(offset=300, length=7)], confidence=0.995), 'Quantity': DocumentField(value_type=float, value=1.0, content=1, bounding_regions=[BoundingRegion(page_number=1, polygon=[Point(x=385.0, y=448.0), Point(x=392.0, y=448.0), Point(x=393.0, y=460.0), Point(x=386.0, y=461.0)])], spans=[DocumentSpan(offset=298, length=1)], confidence=0.995), 'TotalPrice': DocumentField(value_type=float, value=1508.77, content=1508.77, bounding_regions=[BoundingRegion(page_number=1, polygon=[Point(x=488.0, y=447.0), Point(x=539.0, y=446.0), Point(x=538.0, y=461.0), Point(x=488.0, y=462.0)])], spans=[DocumentSpan(offset=308, length=7)], confidence=0.995)}, content=SHIELD C-\n",
            "2046071\n",
            "M,SCARLET\n",
            "RED,\n",
            "1\n",
            "3771.93\n",
            "1508.77\n",
            "NECK, bounding_regions=[BoundingRegion(page_number=1, polygon=[Point(x=146.0, y=438.0), Point(x=539.0, y=438.0), Point(x=539.0, y=476.0), Point(x=146.0, y=476.0)])], spans=[DocumentSpan(offset=265, length=55)], confidence=0.518)], content=None, bounding_regions=[], spans=[], confidence=None), 'MerchantPhoneNumber': DocumentField(value_type=phoneNumber, value='+9711006066222', content=01006066222, bounding_regions=[BoundingRegion(page_number=1, polygon=[Point(x=267.0, y=231.0), Point(x=356.0, y=231.0), Point(x=356.0, y=247.0), Point(x=267.0, y=247.0)])], spans=[DocumentSpan(offset=24, length=11)], confidence=0.973), 'Subtotal': DocumentField(value_type=float, value=1508.77, content=1508.77, bounding_regions=[BoundingRegion(page_number=1, polygon=[Point(x=275.0, y=488.0), Point(x=326.0, y=488.0), Point(x=326.0, y=503.0), Point(x=275.0, y=503.0)])], spans=[DocumentSpan(offset=332, length=7)], confidence=0.979), 'Total': DocumentField(value_type=float, value=1720.0, content=1720, bounding_regions=[BoundingRegion(page_number=1, polygon=[Point(x=275.0, y=529.0), Point(x=306.0, y=529.0), Point(x=306.0, y=544.0), Point(x=275.0, y=543.0)])], spans=[DocumentSpan(offset=370, length=4)], confidence=0.972), 'TransactionDate': DocumentField(value_type=date, value=datetime.date(2023, 4, 2), content=2/4/2023,, bounding_regions=[BoundingRegion(page_number=1, polygon=[Point(x=268.0, y=361.0), Point(x=331.0, y=362.0), Point(x=332.0, y=378.0), Point(x=268.0, y=378.0)])], spans=[DocumentSpan(offset=193, length=9)], confidence=0.979), 'TransactionTime': DocumentField(value_type=time, value=datetime.time(19, 13, 40), content=7:13:40 PM, bounding_regions=[BoundingRegion(page_number=1, polygon=[Point(x=335.0, y=362.0), Point(x=406.0, y=362.0), Point(x=406.0, y=378.0), Point(x=335.0, y=378.0)])], spans=[DocumentSpan(offset=203, length=10)], confidence=0.978)}, confidence=0.995)]\n",
            "Receipt Items:\n",
            "...Item #1\n",
            "......Description: SHIELD C-\n",
            "M,SCARLET has confidence 0.995\n",
            "......Price: 3771.93 has confidence 0.995\n",
            "......Quantity: 1.0 has confidence 0.995\n",
            "......TotalPrice: 1508.77 has confidence 0.995\n",
            "MerchantPhoneNumber: +9711006066222 has confidence 0.973\n",
            "Subtotal: 1508.77 has confidence 0.979\n",
            "Total: 1720.0 has confidence 0.972\n",
            "TransactionDate: 2023-04-02 has confidence 0.979\n",
            "TransactionTime: 19:13:40 has confidence 0.978\n",
            "\n",
            " receipt # 5 \n",
            "\n",
            "File location using os.getcwd(): /content/gdrive/My Drive/Colab Notebooks/Tests\n",
            "results are  [AnalyzedDocument(doc_type=receipt.retailMeal, bounding_regions=[BoundingRegion(page_number=1, polygon=[Point(x=0.0, y=0.0), Point(x=1200.0, y=0.0), Point(x=1200.0, y=1600.0), Point(x=0.0, y=1600.0)])], spans=[DocumentSpan(offset=0, length=284)], fields={'MerchantAddress': DocumentField(value_type=address, value=AddressValue(house_number=6, po_box=None, road=بوابة القاهرة\n",
            "حارة, city=القاهرة, state=None, postal_code=None, country_region=None, street_address=6 بوابة القاهرة\n",
            "حارة), content=بوابة القاهرة\n",
            "حارة 6 بوابة القاهرة, bounding_regions=[BoundingRegion(page_number=1, polygon=[Point(x=469.0, y=709.0), Point(x=631.0, y=711.0), Point(x=630.0, y=775.0), Point(x=468.0, y=773.0)])], spans=[DocumentSpan(offset=33, length=34)], confidence=0.979), 'MerchantName': DocumentField(value_type=string, value='شركة الطرق\\nالقاهرة/', content=شركة الطرق القاهرة/, bounding_regions=[BoundingRegion(page_number=1, polygon=[Point(x=667.0, y=592.0), Point(x=831.0, y=592.0), Point(x=831.0, y=662.0), Point(x=667.0, y=662.0)])], spans=[DocumentSpan(offset=0, length=19)], confidence=0.979), 'MerchantPhoneNumber': DocumentField(value_type=phoneNumber, value='+9715022023', content=٠٥/٠٢/٢٠٢٣, bounding_regions=[BoundingRegion(page_number=1, polygon=[Point(x=560.0, y=797.0), Point(x=652.0, y=797.0), Point(x=652.0, y=818.0), Point(x=559.0, y=818.0)])], spans=[DocumentSpan(offset=76, length=10)], confidence=0.815)}, confidence=0.993)]\n",
            "MerchantAddress: AddressValue(house_number=6, po_box=None, road=بوابة القاهرة\n",
            "حارة, city=القاهرة, state=None, postal_code=None, country_region=None, street_address=6 بوابة القاهرة\n",
            "حارة) has confidence 0.979\n",
            "MerchantName: شركة الطرق\n",
            "القاهرة/ has confidence 0.979\n",
            "MerchantPhoneNumber: +9715022023 has confidence 0.815\n",
            "\n",
            " receipt # 6 \n",
            "\n",
            "File location using os.getcwd(): /content/gdrive/MyDrive/Colab Notebooks/Tests\n",
            "results are  [AnalyzedDocument(doc_type=receipt.retailMeal, bounding_regions=[BoundingRegion(page_number=1, polygon=[Point(x=0.0, y=0.0), Point(x=1200.0, y=0.0), Point(x=1200.0, y=1600.0), Point(x=0.0, y=1600.0)])], spans=[DocumentSpan(offset=0, length=317)], fields={'MerchantAddress': DocumentField(value_type=address, value=AddressValue(house_number=13, po_box=None, road=بوابة القاهرة\n",
            "حارة, city=القاهرة, state=None, postal_code=None, country_region=None, street_address=13 بوابة القاهرة\n",
            "حارة), content=بوابة القاهرة\n",
            "حارة 13 بوابة القاهرة, bounding_regions=[BoundingRegion(page_number=1, polygon=[Point(x=378.0, y=673.0), Point(x=593.0, y=675.0), Point(x=592.0, y=773.0), Point(x=377.0, y=771.0)])], spans=[DocumentSpan(offset=32, length=35)], confidence=0.88), 'MerchantName': DocumentField(value_type=string, value='شركة الطرق\\nالقاهرة/العين السخنة', content=شركة الطرق القاهرة/العين السخنة, bounding_regions=[BoundingRegion(page_number=1, polygon=[Point(x=606.0, y=522.0), Point(x=837.0, y=506.0), Point(x=843.0, y=595.0), Point(x=612.0, y=611.0)])], spans=[DocumentSpan(offset=0, length=31)], confidence=0.988), 'TransactionDate': DocumentField(value_type=date, value=datetime.date(2023, 2, 5), content=05/02/2023, bounding_regions=[BoundingRegion(page_number=1, polygon=[Point(x=503.0, y=795.0), Point(x=633.0, y=795.0), Point(x=633.0, y=822.0), Point(x=502.0, y=821.0)])], spans=[DocumentSpan(offset=76, length=10)], confidence=0.99), 'TransactionTime': DocumentField(value_type=time, value=datetime.time(14, 7), content=02:07PM, bounding_regions=[BoundingRegion(page_number=1, polygon=[Point(x=341.0, y=793.0), Point(x=441.0, y=793.0), Point(x=440.0, y=820.0), Point(x=340.0, y=820.0)])], spans=[DocumentSpan(offset=68, length=7)], confidence=0.988)}, confidence=0.989)]\n",
            "MerchantAddress: AddressValue(house_number=13, po_box=None, road=بوابة القاهرة\n",
            "حارة, city=القاهرة, state=None, postal_code=None, country_region=None, street_address=13 بوابة القاهرة\n",
            "حارة) has confidence 0.88\n",
            "MerchantName: شركة الطرق\n",
            "القاهرة/العين السخنة has confidence 0.988\n",
            "TransactionDate: 2023-02-05 has confidence 0.99\n",
            "TransactionTime: 14:07:00 has confidence 0.988\n",
            "\n",
            " receipt # 7 \n",
            "\n",
            "File location using os.getcwd(): /content/gdrive/MyDrive/Colab Notebooks/Tests\n",
            "results are  [AnalyzedDocument(doc_type=receipt.retailMeal, bounding_regions=[BoundingRegion(page_number=1, polygon=[Point(x=0.0, y=0.0), Point(x=768.0, y=0.0), Point(x=768.0, y=1024.0), Point(x=0.0, y=1024.0)])], spans=[DocumentSpan(offset=0, length=501)], fields={'Items': DocumentField(value_type=list, value=[DocumentField(value_type=dictionary, value={'Description': DocumentField(value_type=string, value='Latte M', content=Latte M, bounding_regions=[BoundingRegion(page_number=1, polygon=[Point(x=221.0, y=473.0), Point(x=283.0, y=476.0), Point(x=282.0, y=495.0), Point(x=220.0, y=492.0)])], spans=[DocumentSpan(offset=168, length=7)], confidence=0.984), 'Quantity': DocumentField(value_type=float, value=1.0, content=1, bounding_regions=[BoundingRegion(page_number=1, polygon=[Point(x=207.0, y=473.0), Point(x=217.0, y=474.0), Point(x=217.0, y=492.0), Point(x=206.0, y=491.0)])], spans=[DocumentSpan(offset=166, length=1)], confidence=0.985), 'TotalPrice': DocumentField(value_type=float, value=60.0, content=60.00, bounding_regions=[BoundingRegion(page_number=1, polygon=[Point(x=442.0, y=481.0), Point(x=485.0, y=482.0), Point(x=485.0, y=499.0), Point(x=441.0, y=498.0)])], spans=[DocumentSpan(offset=176, length=5)], confidence=0.986)}, content=1 Latte M\n",
            "60.00\n",
            "لاتيه وسط\n",
            "ALMOND\n",
            "25.00, bounding_regions=[BoundingRegion(page_number=1, polygon=[Point(x=206.0, y=473.0), Point(x=486.0, y=479.0), Point(x=485.0, y=542.0), Point(x=205.0, y=536.0)])], spans=[DocumentSpan(offset=166, length=38)], confidence=0.337), DocumentField(value_type=dictionary, value={'Description': DocumentField(value_type=string, value='Local Water D', content=Local Water D, bounding_regions=[BoundingRegion(page_number=1, polygon=[Point(x=219.0, y=539.0), Point(x=332.0, y=541.0), Point(x=332.0, y=560.0), Point(x=219.0, y=558.0)])], spans=[DocumentSpan(offset=207, length=13)], confidence=0.982), 'Quantity': DocumentField(value_type=float, value=1.0, content=1, bounding_regions=[BoundingRegion(page_number=1, polygon=[Point(x=204.0, y=539.0), Point(x=215.0, y=539.0), Point(x=215.0, y=557.0), Point(x=204.0, y=557.0)])], spans=[DocumentSpan(offset=205, length=1)], confidence=0.985), 'TotalPrice': DocumentField(value_type=float, value=15.0, content=15.00, bounding_regions=[BoundingRegion(page_number=1, polygon=[Point(x=443.0, y=545.0), Point(x=483.0, y=545.0), Point(x=483.0, y=562.0), Point(x=443.0, y=561.0)])], spans=[DocumentSpan(offset=221, length=5)], confidence=0.986)}, content=1 Local Water D\n",
            "15.00\n",
            "مياه معدنية, bounding_regions=[BoundingRegion(page_number=1, polygon=[Point(x=204.0, y=539.0), Point(x=483.0, y=543.0), Point(x=483.0, y=581.0), Point(x=203.0, y=577.0)])], spans=[DocumentSpan(offset=205, length=33)], confidence=0.376)], content=None, bounding_regions=[], spans=[], confidence=None), 'MerchantAddress': DocumentField(value_type=address, value=AddressValue(house_number=None, po_box=None, road=None, city=Gate, state=None, postal_code=None, country_region=Egypt, street_address=), content=Tivoli Dome Investment Gate Egypt, bounding_regions=[BoundingRegion(page_number=1, polygon=[Point(x=280.0, y=244.0), Point(x=460.0, y=250.0), Point(x=459.0, y=289.0), Point(x=279.0, y=283.0)])], spans=[DocumentSpan(offset=15, length=33)], confidence=0.964), 'MerchantName': DocumentField(value_type=string, value='Caribou Coffee', content=Caribou Coffee, bounding_regions=[BoundingRegion(page_number=1, polygon=[Point(x=307.0, y=222.0), Point(x=427.0, y=226.0), Point(x=426.0, y=245.0), Point(x=306.0, y=241.0)])], spans=[DocumentSpan(offset=0, length=14)], confidence=0.973), 'Subtotal': DocumentField(value_type=float, value=100.0, content=LE100.00, bounding_regions=[BoundingRegion(page_number=1, polygon=[Point(x=413.0, y=628.0), Point(x=482.0, y=631.0), Point(x=483.0, y=647.0), Point(x=413.0, y=646.0)])], spans=[DocumentSpan(offset=265, length=8)], confidence=0.986), 'Total': DocumentField(value_type=float, value=100.0, content=LE100.00, bounding_regions=[BoundingRegion(page_number=1, polygon=[Point(x=398.0, y=650.0), Point(x=525.0, y=653.0), Point(x=525.0, y=671.0), Point(x=397.0, y=668.0)])], spans=[DocumentSpan(offset=282, length=8)], confidence=0.974), 'TransactionDate': DocumentField(value_type=date, value=datetime.date(2023, 2, 5), content=5 Feb'23, bounding_regions=[BoundingRegion(page_number=1, polygon=[Point(x=293.0, y=410.0), Point(x=364.0, y=416.0), Point(x=362.0, y=439.0), Point(x=291.0, y=433.0)])], spans=[DocumentSpan(offset=138, length=8)], confidence=0.988), 'TransactionTime': DocumentField(value_type=time, value=datetime.time(8, 12), content=08:12 AM, bounding_regions=[BoundingRegion(page_number=1, polygon=[Point(x=367.0, y=416.0), Point(x=439.0, y=418.0), Point(x=438.0, y=437.0), Point(x=367.0, y=435.0)])], spans=[DocumentSpan(offset=147, length=8)], confidence=0.985)}, confidence=0.987)]\n",
            "Receipt Items:\n",
            "...Item #1\n",
            "......Description: Latte M has confidence 0.984\n",
            "......Quantity: 1.0 has confidence 0.985\n",
            "......TotalPrice: 60.0 has confidence 0.986\n",
            "...Item #2\n",
            "......Description: Local Water D has confidence 0.982\n",
            "......Quantity: 1.0 has confidence 0.985\n",
            "......TotalPrice: 15.0 has confidence 0.986\n",
            "MerchantAddress: AddressValue(house_number=None, po_box=None, road=None, city=Gate, state=None, postal_code=None, country_region=Egypt, street_address=) has confidence 0.964\n",
            "MerchantName: Caribou Coffee has confidence 0.973\n",
            "Subtotal: 100.0 has confidence 0.986\n",
            "Total: 100.0 has confidence 0.974\n",
            "TransactionDate: 2023-02-05 has confidence 0.988\n",
            "TransactionTime: 08:12:00 has confidence 0.985\n",
            "\n",
            " receipt # 8 \n",
            "\n",
            "File location using os.getcwd(): /content/gdrive/MyDrive/Colab Notebooks/Tests\n",
            "results are  [AnalyzedDocument(doc_type=receipt.retailMeal, bounding_regions=[BoundingRegion(page_number=1, polygon=[Point(x=0.0, y=0.0), Point(x=768.0, y=0.0), Point(x=768.0, y=1024.0), Point(x=0.0, y=1024.0)])], spans=[DocumentSpan(offset=0, length=36)], fields={}, confidence=0.994)]\n",
            "\n",
            " receipts_df                                                           receipt_no_1  \\\n",
            "Items                {1: 1, 'Description': 'Triple B Coconut Dream ...   \n",
            "MerchantAddress      AddressValue(house_number=None, po_box=None, r...   \n",
            "MerchantName                                            Caribou Coffee   \n",
            "Subtotal                                                          49.0   \n",
            "Total                                                             49.0   \n",
            "TransactionDate                                             2023-01-17   \n",
            "TransactionTime                                               08:33:00   \n",
            "TotalTax                                                           NaN   \n",
            "MerchantPhoneNumber                                                NaN   \n",
            "\n",
            "                                                          receipt_no_2  \\\n",
            "Items                {1: 1, 'Description': 'Forte', 'Quantity': 1.0...   \n",
            "MerchantAddress                                                    NaN   \n",
            "MerchantName                                                       NaN   \n",
            "Subtotal                                                         39.25   \n",
            "Total                                                            44.75   \n",
            "TransactionDate                                             2023-02-04   \n",
            "TransactionTime                                               09:30:44   \n",
            "TotalTax                                                           5.5   \n",
            "MerchantPhoneNumber                                                NaN   \n",
            "\n",
            "                                                          receipt_no_3  \\\n",
            "Items                {1: 1, 'Description': 'G-Melfa', 'Quantity': 2...   \n",
            "MerchantAddress                                                    NaN   \n",
            "MerchantName                                                    Pastry   \n",
            "Subtotal                                                           NaN   \n",
            "Total                                                            100.0   \n",
            "TransactionDate                                             2023-02-04   \n",
            "TransactionTime                                               09:40:00   \n",
            "TotalTax                                                           NaN   \n",
            "MerchantPhoneNumber                                                NaN   \n",
            "\n",
            "                                                          receipt_no_4  \\\n",
            "Items                {1: 1, 'Description': 'SHIELD C-\n",
            "M,SCARLET', '...   \n",
            "MerchantAddress                                                    NaN   \n",
            "MerchantName                                                       NaN   \n",
            "Subtotal                                                       1508.77   \n",
            "Total                                                           1720.0   \n",
            "TransactionDate                                             2023-04-02   \n",
            "TransactionTime                                               19:13:40   \n",
            "TotalTax                                                           NaN   \n",
            "MerchantPhoneNumber                                     +9711006066222   \n",
            "\n",
            "                                                          receipt_no_5  \\\n",
            "Items                                                               {}   \n",
            "MerchantAddress      AddressValue(house_number=6, po_box=None, road...   \n",
            "MerchantName                                      شركة الطرق\\nالقاهرة/   \n",
            "Subtotal                                                           NaN   \n",
            "Total                                                              NaN   \n",
            "TransactionDate                                                    NaN   \n",
            "TransactionTime                                                    NaN   \n",
            "TotalTax                                                           NaN   \n",
            "MerchantPhoneNumber                                        +9715022023   \n",
            "\n",
            "                                                          receipt_no_6  \\\n",
            "Items                                                               {}   \n",
            "MerchantAddress      AddressValue(house_number=13, po_box=None, roa...   \n",
            "MerchantName                          شركة الطرق\\nالقاهرة/العين السخنة   \n",
            "Subtotal                                                           NaN   \n",
            "Total                                                              NaN   \n",
            "TransactionDate                                             2023-02-05   \n",
            "TransactionTime                                               14:07:00   \n",
            "TotalTax                                                           NaN   \n",
            "MerchantPhoneNumber                                                NaN   \n",
            "\n",
            "                                                          receipt_no_7  \\\n",
            "Items                {1: 1, 'Description': 'Local Water D', 'Quanti...   \n",
            "MerchantAddress      AddressValue(house_number=None, po_box=None, r...   \n",
            "MerchantName                                            Caribou Coffee   \n",
            "Subtotal                                                         100.0   \n",
            "Total                                                            100.0   \n",
            "TransactionDate                                             2023-02-05   \n",
            "TransactionTime                                               08:12:00   \n",
            "TotalTax                                                           NaN   \n",
            "MerchantPhoneNumber                                                NaN   \n",
            "\n",
            "                     receipt_no_8  \n",
            "Items                         NaN  \n",
            "MerchantAddress               NaN  \n",
            "MerchantName                  NaN  \n",
            "Subtotal                      NaN  \n",
            "Total                         NaN  \n",
            "TransactionDate               NaN  \n",
            "TransactionTime               NaN  \n",
            "TotalTax                      NaN  \n",
            "MerchantPhoneNumber           NaN  \n"
          ]
        }
      ]
    },
    {
      "cell_type": "code",
      "source": [
        "#get current path\n",
        "currpath=os.getcwd()\n",
        "print (\"current path is\",currpath)\n",
        "\n",
        "current_date = today = str (date.today())\n",
        "\n",
        "print (\"current day is \",current_date)\n",
        "\n",
        "# Create a Pandas Excel writer using XlsxWriter\n",
        "\n",
        "output_path = 'receipts'+current_date+'.xlsx'\n",
        "\n",
        "writer = pd.ExcelWriter(output_path, engine='xlsxwriter')\n",
        "\n",
        "receipts_df.to_excel(writer,sheet_name='Receipts')\n",
        "\n",
        "\n",
        "\n",
        "# Save Data to File\n",
        "writer.save()\n",
        "\n",
        "print (writer)\n",
        "\n",
        "writer.close()"
      ],
      "metadata": {
        "colab": {
          "base_uri": "https://localhost:8080/"
        },
        "id": "0ZQfm9y0ToUS",
        "outputId": "338c3955-7bc4-45ad-acfe-3528d8bc377d"
      },
      "execution_count": null,
      "outputs": [
        {
          "output_type": "stream",
          "name": "stdout",
          "text": [
            "current path is /content/gdrive/MyDrive/Colab Notebooks/Tests\n",
            "current day is  2023-02-09\n",
            "<pandas.io.excel._xlsxwriter.XlsxWriter object at 0x7f3d49edcca0>\n"
          ]
        },
        {
          "output_type": "stream",
          "name": "stderr",
          "text": [
            "/usr/local/lib/python3.8/dist-packages/xlsxwriter/workbook.py:339: UserWarning: Calling close() on already closed file.\n",
            "  warn(\"Calling close() on already closed file.\")\n"
          ]
        }
      ]
    },
    {
      "cell_type": "code",
      "source": [
        "Receipt_1_Item_1 ={'Item_no':1,'Description':'late','Quantity':1,'Price':49}\n",
        "Receipt_1_Item_2 ={'Item_no':2,'Description':'Triple B Coconut Dream 70G','Quantity':1,'Price':100}\n",
        "Receipt_1_overall ={'Merchant':'Caribou Coffee','total':149,'Address':'Heliopolis,Egypt','Transaction_Date':'2023-01-17'}\n",
        "Receipt_2_Item_1 ={'Item_no':1,'Description':'G-Eclair','Quantity':4,'Price':60}\n",
        "Receipt_2_Item_2 ={'Item_no':2,'Description':'G-Melf','Quantity':2,'Price':40}\n",
        "Receipt_2_overall ={'Merchant':'Pastry','total':100,'Address':'Zamalek','Transaction_Date':'2023-01-19'}\n",
        "Receipt_3_Item_1 ={'Item_no':1,'Description':'Description: SHIELD C-M,SCARLET','Quantity':1,'Price':1508.77}\n",
        "Receipt_3_overall ={'Merchant':'GANT','total':1720,'Address':'City Center','Transaction_Date':'2023-01-23'}"
      ],
      "metadata": {
        "id": "2sjT0kzJpxJo"
      },
      "execution_count": null,
      "outputs": []
    },
    {
      "cell_type": "code",
      "source": [
        "Receipt_1 = {'Item_1':Receipt_1_Item_1,'Item_2':Receipt_1_Item_2,'Items_overall':Receipt_1_overall}\n",
        "Receipt_2 = {'Item_1':Receipt_2_Item_1,'Item_2':Receipt_2_Item_2,'Items_overall':Receipt_2_overall}\n",
        "Receipt_3 = {'Item_1':Receipt_3_Item_1,'Items_overall':Receipt_3_overall}\n",
        "\n",
        "Receipts= {'Receipt_1':Receipt_1,'Receipt_2':Receipt_2,'Receipt_3':Receipt_3}"
      ],
      "metadata": {
        "id": "S_WvJOogPQR3"
      },
      "execution_count": null,
      "outputs": []
    },
    {
      "cell_type": "code",
      "source": [
        "Receipts"
      ],
      "metadata": {
        "colab": {
          "base_uri": "https://localhost:8080/"
        },
        "id": "NGo3KJoDQqx3",
        "outputId": "304fd98b-4e0a-4199-ce58-20181d5c828a"
      },
      "execution_count": null,
      "outputs": [
        {
          "output_type": "execute_result",
          "data": {
            "text/plain": [
              "{'Receipt_1': {'Item_1': {'Item_no': 1,\n",
              "   'Description': 'late',\n",
              "   'Quantity': 1,\n",
              "   'Price': 49},\n",
              "  'Item_2': {'Item_no': 2,\n",
              "   'Description': 'Triple B Coconut Dream 70G',\n",
              "   'Quantity': 1,\n",
              "   'Price': 100},\n",
              "  'Items_overall': {'Merchant': 'Caribou Coffee',\n",
              "   'total': 149,\n",
              "   'Address': 'Heliopolis,Egypt',\n",
              "   'Transaction_Date': '2023-01-17'}},\n",
              " 'Receipt_2': {'Item_1': {'Item_no': 1,\n",
              "   'Description': 'G-Eclair',\n",
              "   'Quantity': 4,\n",
              "   'Price': 60},\n",
              "  'Item_2': {'Item_no': 2,\n",
              "   'Description': 'G-Melf',\n",
              "   'Quantity': 2,\n",
              "   'Price': 40},\n",
              "  'Items_overall': {'Merchant': 'Pastry',\n",
              "   'total': 100,\n",
              "   'Address': 'Zamalek',\n",
              "   'Transaction_Date': '2023-01-19'}},\n",
              " 'Receipt_3': {'Item_1': {'Item_no': 1,\n",
              "   'Description': 'Description: SHIELD C-M,SCARLET',\n",
              "   'Quantity': 1,\n",
              "   'Price': 1508.77},\n",
              "  'Items_overall': {'Merchant': 'GANT',\n",
              "   'total': 1720,\n",
              "   'Address': 'City Center',\n",
              "   'Transaction_Date': '2023-01-23'}}}"
            ]
          },
          "metadata": {},
          "execution_count": 21
        }
      ]
    }
  ]
}