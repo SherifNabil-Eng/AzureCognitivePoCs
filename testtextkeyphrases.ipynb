{
  "nbformat": 4,
  "nbformat_minor": 0,
  "metadata": {
    "colab": {
      "provenance": [],
      "authorship_tag": "ABX9TyOamDkUIAZjKeqT4CPUw2t+",
      "include_colab_link": true
    },
    "kernelspec": {
      "name": "python3",
      "display_name": "Python 3"
    },
    "language_info": {
      "name": "python"
    }
  },
  "cells": [
    {
      "cell_type": "markdown",
      "metadata": {
        "id": "view-in-github",
        "colab_type": "text"
      },
      "source": [
        "<a href=\"https://colab.research.google.com/github/SherifNabil-Eng/AzureCognitivePoCs/blob/main/testtextkeyphrases.ipynb\" target=\"_parent\"><img src=\"https://colab.research.google.com/assets/colab-badge.svg\" alt=\"Open In Colab\"/></a>"
      ]
    },
    {
      "cell_type": "code",
      "execution_count": 1,
      "metadata": {
        "colab": {
          "base_uri": "https://localhost:8080/"
        },
        "id": "-UmoT8fDqfyz",
        "outputId": "c7fa9e6e-126d-40b3-8154-690ebe58f0d1"
      },
      "outputs": [
        {
          "output_type": "stream",
          "name": "stdout",
          "text": [
            "Looking in indexes: https://pypi.org/simple, https://us-python.pkg.dev/colab-wheels/public/simple/\n",
            "Collecting azure-ai-textanalytics\n",
            "  Downloading azure_ai_textanalytics-5.3.0b1-py3-none-any.whl (315 kB)\n",
            "\u001b[2K     \u001b[90m━━━━━━━━━━━━━━━━━━━━━━━━━━━━━━━━━━━━━━━\u001b[0m \u001b[32m315.4/315.4 KB\u001b[0m \u001b[31m5.8 MB/s\u001b[0m eta \u001b[36m0:00:00\u001b[0m\n",
            "\u001b[?25hCollecting azure-core<2.0.0,>=1.24.0\n",
            "  Downloading azure_core-1.26.3-py3-none-any.whl (174 kB)\n",
            "\u001b[2K     \u001b[90m━━━━━━━━━━━━━━━━━━━━━━━━━━━━━━━━━━━━━━\u001b[0m \u001b[32m174.5/174.5 KB\u001b[0m \u001b[31m11.7 MB/s\u001b[0m eta \u001b[36m0:00:00\u001b[0m\n",
            "\u001b[?25hRequirement already satisfied: typing-extensions>=4.0.1 in /usr/local/lib/python3.8/dist-packages (from azure-ai-textanalytics) (4.4.0)\n",
            "Collecting isodate<1.0.0,>=0.6.1\n",
            "  Downloading isodate-0.6.1-py2.py3-none-any.whl (41 kB)\n",
            "\u001b[2K     \u001b[90m━━━━━━━━━━━━━━━━━━━━━━━━━━━━━━━━━━━━━━━━\u001b[0m \u001b[32m41.7/41.7 KB\u001b[0m \u001b[31m2.8 MB/s\u001b[0m eta \u001b[36m0:00:00\u001b[0m\n",
            "\u001b[?25hCollecting azure-common~=1.1\n",
            "  Downloading azure_common-1.1.28-py2.py3-none-any.whl (14 kB)\n",
            "Requirement already satisfied: six>=1.11.0 in /usr/local/lib/python3.8/dist-packages (from azure-core<2.0.0,>=1.24.0->azure-ai-textanalytics) (1.15.0)\n",
            "Requirement already satisfied: requests>=2.18.4 in /usr/local/lib/python3.8/dist-packages (from azure-core<2.0.0,>=1.24.0->azure-ai-textanalytics) (2.25.1)\n",
            "Requirement already satisfied: chardet<5,>=3.0.2 in /usr/local/lib/python3.8/dist-packages (from requests>=2.18.4->azure-core<2.0.0,>=1.24.0->azure-ai-textanalytics) (4.0.0)\n",
            "Requirement already satisfied: certifi>=2017.4.17 in /usr/local/lib/python3.8/dist-packages (from requests>=2.18.4->azure-core<2.0.0,>=1.24.0->azure-ai-textanalytics) (2022.12.7)\n",
            "Requirement already satisfied: idna<3,>=2.5 in /usr/local/lib/python3.8/dist-packages (from requests>=2.18.4->azure-core<2.0.0,>=1.24.0->azure-ai-textanalytics) (2.10)\n",
            "Requirement already satisfied: urllib3<1.27,>=1.21.1 in /usr/local/lib/python3.8/dist-packages (from requests>=2.18.4->azure-core<2.0.0,>=1.24.0->azure-ai-textanalytics) (1.24.3)\n",
            "Installing collected packages: azure-common, isodate, azure-core, azure-ai-textanalytics\n",
            "Successfully installed azure-ai-textanalytics-5.3.0b1 azure-common-1.1.28 azure-core-1.26.3 isodate-0.6.1\n"
          ]
        }
      ],
      "source": [
        "!pip install azure-ai-textanalytics --pre"
      ]
    },
    {
      "cell_type": "code",
      "source": [
        "! pip install python-docx"
      ],
      "metadata": {
        "colab": {
          "base_uri": "https://localhost:8080/"
        },
        "id": "5txAoGgHgwQz",
        "outputId": "d92fdd94-7e1b-4492-a4f9-481f72512cc8"
      },
      "execution_count": 2,
      "outputs": [
        {
          "output_type": "stream",
          "name": "stdout",
          "text": [
            "Looking in indexes: https://pypi.org/simple, https://us-python.pkg.dev/colab-wheels/public/simple/\n",
            "Collecting python-docx\n",
            "  Downloading python-docx-0.8.11.tar.gz (5.6 MB)\n",
            "\u001b[2K     \u001b[90m━━━━━━━━━━━━━━━━━━━━━━━━━━━━━━━━━━━━━━━━\u001b[0m \u001b[32m5.6/5.6 MB\u001b[0m \u001b[31m34.0 MB/s\u001b[0m eta \u001b[36m0:00:00\u001b[0m\n",
            "\u001b[?25h  Preparing metadata (setup.py) ... \u001b[?25l\u001b[?25hdone\n",
            "Requirement already satisfied: lxml>=2.3.2 in /usr/local/lib/python3.8/dist-packages (from python-docx) (4.9.2)\n",
            "Building wheels for collected packages: python-docx\n",
            "  Building wheel for python-docx (setup.py) ... \u001b[?25l\u001b[?25hdone\n",
            "  Created wheel for python-docx: filename=python_docx-0.8.11-py3-none-any.whl size=184505 sha256=fe9c1d2c3ffc3f073d75fd19e01199d29a5645413096dad5eaabd4482d251246\n",
            "  Stored in directory: /root/.cache/pip/wheels/32/b8/b2/c4c2b95765e615fe139b0b17b5ea7c0e1b6519b0a9ec8fb34d\n",
            "Successfully built python-docx\n",
            "Installing collected packages: python-docx\n",
            "Successfully installed python-docx-0.8.11\n"
          ]
        }
      ]
    },
    {
      "cell_type": "code",
      "source": [
        "# import libraries\n",
        "from google.colab import drive\n",
        "drive.mount('/content/gdrive')\n",
        "\n",
        "import os\n",
        "import numpy as np\n",
        "import pandas as pd\n",
        "from datetime import date\n",
        "import sys\n",
        "#reload(sys)\n",
        "\n",
        "\n",
        "import os\n",
        "import locale\n",
        "#os.environ[\"PYTHONIOENCODING\"] = \"utf-8\"\n",
        "\n",
        "import docx\n",
        "\n",
        "from azure.ai.textanalytics import TextAnalyticsClient\n",
        "from azure.core.credentials import AzureKeyCredential\n",
        "from azure.core.exceptions import HttpResponseError\n",
        "\n",
        "\n",
        "os.chdir(\"/content/gdrive/My Drive/Colab Notebooks/Tests\")\n",
        "#sys.setdefaultencoding('utf-8')\n",
        "#!locale-gen en_US.UTF-8\n",
        "#!export LANG=en_US.UTF-8 LANGUAGE=en_US.en\n",
        "#!LC_ALL=en_US.UTF-8"
      ],
      "metadata": {
        "colab": {
          "base_uri": "https://localhost:8080/"
        },
        "id": "Ylrv3F3XuGIt",
        "outputId": "51467202-e5a0-4a8c-d0db-8e936c175211"
      },
      "execution_count": 3,
      "outputs": [
        {
          "output_type": "stream",
          "name": "stdout",
          "text": [
            "Mounted at /content/gdrive\n"
          ]
        }
      ]
    },
    {
      "cell_type": "code",
      "source": [
        "endpoint = \"https://cognservgen.cognitiveservices.azure.com/\"\n",
        "key = \"fba635423d6547248dd57386dd6220e4\"\n",
        "\n",
        "def sample_extractive_summarization(parsed_doc,iteration,key_phrases):\n",
        "    # [START extract_summary]\n",
        "    \n",
        "    #endpoint = os.environ[\"AZURE_LANGUAGE_ENDPOINT\"]\n",
        "    #key = os.environ[\"AZURE_LANGUAGE_KEY\"]\n",
        "\n",
        "    text_analytics_client = TextAnalyticsClient(\n",
        "        endpoint=endpoint,\n",
        "        credential=AzureKeyCredential(key),\n",
        "    )\n",
        "\n",
        "    \n",
        "    result = text_analytics_client.extract_key_phrases(parsed_doc)\n",
        "    for idx, doc in enumerate(result):\n",
        "        if not doc.is_error:\n",
        "            #print(\"Key phrases in article #{}: {}\".format(\n",
        "            #    iteration+idx + 1,\n",
        "            #    \", \".join(doc.key_phrases)\n",
        "            #))\n",
        "            key_phrases.append(\"\\n Key phrases in article #{}: {}\".format(\n",
        "                iteration+idx + 1,\n",
        "                \", \".join(doc.key_phrases)\n",
        "            ))\n",
        "    # [END extract_summary]\n",
        "    return \n"
      ],
      "metadata": {
        "id": "Aj6SgAfjuggc"
      },
      "execution_count": 8,
      "outputs": []
    },
    {
      "cell_type": "code",
      "source": [
        "# Read the Document file\n",
        "\n",
        "def read_file (file_sub):\n",
        "\n",
        "  curren_root=os.getcwd()\n",
        "  file_Path =  os.path.join(curren_root,file_sub)\n",
        "    \n",
        " \n",
        "  # open connection to Word Document\n",
        "  doc_temp = docx.Document(file_Path)\n",
        " \n",
        "  # read in each paragraph in file\n",
        "  document = [p.text for p in doc_temp.paragraphs]\n",
        " \n",
        "\n",
        "  #remove('')\n",
        "  document_trimmed  = [sentence for sentence in document if (sentence != '\\n')]\n",
        "  document_trimmed  = [sentence for sentence in document if (sentence != '')]\n",
        "  #print (document_trimmed[0:30])\n",
        "  #print (\"\\n length of the document trimmed is \\n\",len(document_trimmed))\n",
        "  #print (\"document type is \",type (document_trimmed))\n",
        "  return document_trimmed"
      ],
      "metadata": {
        "id": "0UNfvpthh5AR"
      },
      "execution_count": 9,
      "outputs": []
    },
    {
      "cell_type": "code",
      "source": [
        "if __name__ == \"__main__\":\n",
        "  file_sub=\"TextExtractDocs/TranscriptFY22Q4.docx\"\n",
        "  key_phrases = []\n",
        "\n",
        "# enhance i as it is related to the current document\n",
        "  document = read_file(file_sub)\n",
        "  #print (\"Length of document is \\n \",document)\n",
        "  for i in range (10,len (document),10):\n",
        "    sample_extractive_summarization(document[i-10:i],i-10,key_phrases)\n"
      ],
      "metadata": {
        "id": "AGG0CyAnvHvU"
      },
      "execution_count": 10,
      "outputs": []
    },
    {
      "cell_type": "code",
      "source": [
        "index_slash=file_sub.find (\"/\")\n",
        "index_dot=file_sub.find (\".\")\n",
        "file_sub_name = file_sub[index_slash+1:index_dot]\n",
        "\n",
        "current_date = today = str (date.today())\n",
        "\n",
        "extracted_file_name = file_sub_name+current_date+\".txt\"\n",
        "\n",
        "file_extracted_handle = open(extracted_file_name,\"a\")\n",
        "\n",
        "for i in range (0,len(key_phrases)):\n",
        "  file_extracted_handle.write(key_phrases[i])\n",
        "  \n",
        "\n",
        "\n",
        "file_extracted_handle.close()"
      ],
      "metadata": {
        "id": "FuCJyQH4uTnb"
      },
      "execution_count": 11,
      "outputs": []
    }
  ]
}